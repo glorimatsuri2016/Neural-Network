{
  "nbformat": 4,
  "nbformat_minor": 0,
  "metadata": {
    "colab": {
      "name": "25_3.5_deep_Net_in _tensorflow_Pratice",
      "provenance": [],
      "authorship_tag": "ABX9TyMXa7H+iNGiF35+E/P+3pB/"
    },
    "kernelspec": {
      "name": "python3",
      "display_name": "Python 3"
    }
  },
  "cells": [
    {
      "cell_type": "markdown",
      "metadata": {
        "id": "GC1Q38C2bcX6",
        "colab_type": "text"
      },
      "source": [
        "# Deep Neural Network in Tensorflow"
      ]
    },
    {
      "cell_type": "markdown",
      "metadata": {
        "id": "pgxIrh0oboiW",
        "colab_type": "text"
      },
      "source": [
        "# Load correct version of TensorFlow"
      ]
    },
    {
      "cell_type": "code",
      "metadata": {
        "id": "NDG1tYynaoC7",
        "colab_type": "code",
        "colab": {}
      },
      "source": [
        "# Install TensorFlow using Colab's tensorflow_version command\n",
        "try:\n",
        "  # %tensorflow_version only exists in Colab.\n",
        "  %tensorflow_version 2.x\n",
        "except Exception:\n",
        "  pass"
      ],
      "execution_count": 0,
      "outputs": []
    },
    {
      "cell_type": "markdown",
      "metadata": {
        "id": "4g4HEiIfbwmi",
        "colab_type": "text"
      },
      "source": [
        "# Load Dependencies"
      ]
    },
    {
      "cell_type": "code",
      "metadata": {
        "id": "Z0_WfZn6buWo",
        "colab_type": "code",
        "colab": {}
      },
      "source": [
        "import tensorflow\n",
        "from tensorflow.keras.datasets import mnist\n",
        "from tensorflow.keras.utils import to_categorical\n",
        "from tensorflow.keras.models import Sequential\n",
        "from tensorflow.keras.layers import Dense\n",
        "from tensorflow.keras.layers import Dropout, BatchNormalization\n",
        "\n",
        "from tensorflow.keras.optimizers import SGD\n",
        "from matplotlib import pyplot as plt"
      ],
      "execution_count": 0,
      "outputs": []
    },
    {
      "cell_type": "markdown",
      "metadata": {
        "id": "RSHCjy70cxO-",
        "colab_type": "text"
      },
      "source": [
        "# Load data"
      ]
    },
    {
      "cell_type": "code",
      "metadata": {
        "id": "DwcL465Ic0xx",
        "colab_type": "code",
        "colab": {}
      },
      "source": [
        "(X_train, y_train), (X_valid, y_valid) = mnist.load_data()"
      ],
      "execution_count": 0,
      "outputs": []
    },
    {
      "cell_type": "markdown",
      "metadata": {
        "id": "_SAk1TNAdd0j",
        "colab_type": "text"
      },
      "source": [
        "## Preprocess data"
      ]
    },
    {
      "cell_type": "code",
      "metadata": {
        "id": "Dm22V37edhCy",
        "colab_type": "code",
        "colab": {}
      },
      "source": [
        "X_train = X_train.reshape(60000, 784). astype('float32')\n",
        "X_valid = X_valid.reshape(10000, 784). astype('float32')"
      ],
      "execution_count": 0,
      "outputs": []
    },
    {
      "cell_type": "code",
      "metadata": {
        "id": "bRxNzVA3d0MD",
        "colab_type": "code",
        "colab": {}
      },
      "source": [
        "X_train /= 255\n",
        "X_valid /= 255"
      ],
      "execution_count": 0,
      "outputs": []
    },
    {
      "cell_type": "code",
      "metadata": {
        "id": "uKV1RNszeFdq",
        "colab_type": "code",
        "colab": {}
      },
      "source": [
        "n_classes = 10\n",
        "y_train = to_categorical(y_train, n_classes)\n",
        "y_valid = to_categorical(y_valid, n_classes)"
      ],
      "execution_count": 0,
      "outputs": []
    },
    {
      "cell_type": "markdown",
      "metadata": {
        "id": "lz9xnXzRecjC",
        "colab_type": "text"
      },
      "source": [
        "# Design neural network architecture\n",
        "\n",
        "\n",
        "\n"
      ]
    },
    {
      "cell_type": "code",
      "metadata": {
        "id": "9cFvxX6xejLB",
        "colab_type": "code",
        "colab": {}
      },
      "source": [
        "model = Sequential()\n",
        "\n",
        "# First hidden layers:\n",
        "model.add(Dense(64, activation='relu', input_shape= (784, )))\n",
        "model.add(BatchNormalization())\n",
        "\n",
        "# Second hidden layers:\n",
        "model.add(Dense(64, activation='relu'))\n",
        "model.add(BatchNormalization())\n",
        "\n",
        "# Third hidden layers:\n",
        "model.add(Dense(64, activation='relu'))\n",
        "model.add(BatchNormalization())\n",
        "model.add(Dropout(0.2))\n",
        "\n",
        "# Output layers:\n",
        "model.add(Dense(10, activation='softmax'))"
      ],
      "execution_count": 0,
      "outputs": []
    },
    {
      "cell_type": "code",
      "metadata": {
        "id": "Ltu9B2GTfK_u",
        "colab_type": "code",
        "outputId": "b1652a8f-835d-4bbe-cfce-5f654b364f6c",
        "colab": {
          "base_uri": "https://localhost:8080/",
          "height": 425
        }
      },
      "source": [
        "model.summary()"
      ],
      "execution_count": 0,
      "outputs": [
        {
          "output_type": "stream",
          "text": [
            "Model: \"sequential_2\"\n",
            "_________________________________________________________________\n",
            "Layer (type)                 Output Shape              Param #   \n",
            "=================================================================\n",
            "dense_7 (Dense)              (None, 64)                50240     \n",
            "_________________________________________________________________\n",
            "batch_normalization_3 (Batch (None, 64)                256       \n",
            "_________________________________________________________________\n",
            "dense_8 (Dense)              (None, 64)                4160      \n",
            "_________________________________________________________________\n",
            "batch_normalization_4 (Batch (None, 64)                256       \n",
            "_________________________________________________________________\n",
            "dense_9 (Dense)              (None, 64)                4160      \n",
            "_________________________________________________________________\n",
            "batch_normalization_5 (Batch (None, 64)                256       \n",
            "_________________________________________________________________\n",
            "dropout_1 (Dropout)          (None, 64)                0         \n",
            "_________________________________________________________________\n",
            "dense_10 (Dense)             (None, 10)                650       \n",
            "=================================================================\n",
            "Total params: 59,978\n",
            "Trainable params: 59,594\n",
            "Non-trainable params: 384\n",
            "_________________________________________________________________\n"
          ],
          "name": "stdout"
        }
      ]
    },
    {
      "cell_type": "markdown",
      "metadata": {
        "id": "JZli8SZCg44T",
        "colab_type": "text"
      },
      "source": [
        "# Configure model!"
      ]
    },
    {
      "cell_type": "code",
      "metadata": {
        "id": "OVqhsaVJg96b",
        "colab_type": "code",
        "colab": {}
      },
      "source": [
        "model.compile(loss='categorical_crossentropy', optimizer='nadam', metrics=['accuracy'])"
      ],
      "execution_count": 0,
      "outputs": []
    },
    {
      "cell_type": "markdown",
      "metadata": {
        "id": "y63-Ud_RhTzW",
        "colab_type": "text"
      },
      "source": [
        "# Trian"
      ]
    },
    {
      "cell_type": "code",
      "metadata": {
        "id": "wMmPFpyJhTAu",
        "colab_type": "code",
        "colab": {}
      },
      "source": [
        "# Use the following code to disable spurious TF 2.8 Beta warning\n",
        "# at the model.fit() step when using 'categorical_crossentropy' loss:\n",
        "\n",
        "# import logging\n",
        "# logging.disable(logging.WARNING)"
      ],
      "execution_count": 0,
      "outputs": []
    },
    {
      "cell_type": "code",
      "metadata": {
        "id": "japr6Lxmh_z8",
        "colab_type": "code",
        "outputId": "30d46236-5ebd-43c0-d4f2-67321742dbb5",
        "colab": {
          "base_uri": "https://localhost:8080/",
          "height": 411
        }
      },
      "source": [
        "# N.B.: number of epochs is order of magnitude smaller relative to shallow net\n",
        "model.fit(X_train,y_train, batch_size=128, epochs=10, verbose=1, validation_data=(X_valid, y_valid))"
      ],
      "execution_count": 0,
      "outputs": [
        {
          "output_type": "stream",
          "text": [
            "Train on 60000 samples, validate on 10000 samples\n",
            "Epoch 1/10\n",
            "60000/60000 [==============================] - 4s 68us/sample - loss: 0.0423 - accuracy: 0.9859 - val_loss: 0.0869 - val_accuracy: 0.9742\n",
            "Epoch 2/10\n",
            "60000/60000 [==============================] - 3s 42us/sample - loss: 0.0380 - accuracy: 0.9872 - val_loss: 0.0940 - val_accuracy: 0.9730\n",
            "Epoch 3/10\n",
            "60000/60000 [==============================] - 2s 38us/sample - loss: 0.0368 - accuracy: 0.9876 - val_loss: 0.0996 - val_accuracy: 0.9722\n",
            "Epoch 4/10\n",
            "60000/60000 [==============================] - 2s 39us/sample - loss: 0.0338 - accuracy: 0.9890 - val_loss: 0.0870 - val_accuracy: 0.9758\n",
            "Epoch 5/10\n",
            "60000/60000 [==============================] - 2s 41us/sample - loss: 0.0305 - accuracy: 0.9901 - val_loss: 0.1028 - val_accuracy: 0.9734\n",
            "Epoch 6/10\n",
            "60000/60000 [==============================] - 2s 41us/sample - loss: 0.0288 - accuracy: 0.9905 - val_loss: 0.0845 - val_accuracy: 0.9778\n",
            "Epoch 7/10\n",
            "60000/60000 [==============================] - 3s 42us/sample - loss: 0.0257 - accuracy: 0.9914 - val_loss: 0.0969 - val_accuracy: 0.9753\n",
            "Epoch 8/10\n",
            "60000/60000 [==============================] - 2s 40us/sample - loss: 0.0264 - accuracy: 0.9916 - val_loss: 0.0852 - val_accuracy: 0.9779\n",
            "Epoch 9/10\n",
            "60000/60000 [==============================] - 2s 40us/sample - loss: 0.0220 - accuracy: 0.9926 - val_loss: 0.0923 - val_accuracy: 0.9771\n",
            "Epoch 10/10\n",
            "60000/60000 [==============================] - 2s 40us/sample - loss: 0.0232 - accuracy: 0.9919 - val_loss: 0.0907 - val_accuracy: 0.9775\n"
          ],
          "name": "stdout"
        },
        {
          "output_type": "execute_result",
          "data": {
            "text/plain": [
              "<tensorflow.python.keras.callbacks.History at 0x7f0461c1c0b8>"
            ]
          },
          "metadata": {
            "tags": []
          },
          "execution_count": 35
        }
      ]
    },
    {
      "cell_type": "markdown",
      "metadata": {
        "id": "7DYGuGDPiw-n",
        "colab_type": "text"
      },
      "source": [
        "# Performing inference"
      ]
    },
    {
      "cell_type": "code",
      "metadata": {
        "id": "f5u-67AakH2F",
        "colab_type": "code",
        "colab": {}
      },
      "source": [
        "valid_0 = X_valid[0].reshape(1,784)"
      ],
      "execution_count": 0,
      "outputs": []
    },
    {
      "cell_type": "code",
      "metadata": {
        "id": "-abiuZmPkPuy",
        "colab_type": "code",
        "outputId": "2120a2fc-39d3-4de3-9029-49d5120afd26",
        "colab": {
          "base_uri": "https://localhost:8080/",
          "height": 68
        }
      },
      "source": [
        "model.predict(valid_0)"
      ],
      "execution_count": 0,
      "outputs": [
        {
          "output_type": "execute_result",
          "data": {
            "text/plain": [
              "array([[2.0922195e-09, 5.9188434e-08, 1.5900260e-07, 1.2401146e-07,\n",
              "        4.7971856e-08, 7.2493704e-09, 4.0866566e-10, 9.9999833e-01,\n",
              "        1.9820611e-08, 1.1651116e-06]], dtype=float32)"
            ]
          },
          "metadata": {
            "tags": []
          },
          "execution_count": 32
        }
      ]
    },
    {
      "cell_type": "code",
      "metadata": {
        "id": "xFoRcejukTDR",
        "colab_type": "code",
        "outputId": "310f0da9-df68-4c66-ee0c-7747bdfdefcf",
        "colab": {
          "base_uri": "https://localhost:8080/",
          "height": 34
        }
      },
      "source": [
        "model.predict_classes(valid_0)"
      ],
      "execution_count": 0,
      "outputs": [
        {
          "output_type": "execute_result",
          "data": {
            "text/plain": [
              "array([7])"
            ]
          },
          "metadata": {
            "tags": []
          },
          "execution_count": 33
        }
      ]
    }
  ]
}
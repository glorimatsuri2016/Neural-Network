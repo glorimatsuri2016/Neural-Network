{
  "nbformat": 4,
  "nbformat_minor": 0,
  "metadata": {
    "colab": {
      "name": "27_3.7_regression_in _tensorflow_with_tensorboard_Pratice",
      "provenance": [],
      "authorship_tag": "ABX9TyPr0bjPZf6YBraopK7Q7a0V"
    },
    "kernelspec": {
      "name": "python3",
      "display_name": "Python 3"
    }
  },
  "cells": [
    {
      "cell_type": "markdown",
      "metadata": {
        "id": "62SVCrb7PMk8",
        "colab_type": "text"
      },
      "source": [
        "# Regression Example in Tensorflow (with TensorBoard)\n",
        "Predicting house price in Boston, Massachusetts while logging results for TensorBoard"
      ]
    },
    {
      "cell_type": "markdown",
      "metadata": {
        "id": "UBh9TAalUvXg",
        "colab_type": "text"
      },
      "source": [
        "# Load correct version of TensorFlow"
      ]
    },
    {
      "cell_type": "code",
      "metadata": {
        "id": "ZcuXGCVvU0fy",
        "colab_type": "code",
        "outputId": "6e2cc76d-c739-4f02-d9d1-87e6f97d22f8",
        "colab": {
          "base_uri": "https://localhost:8080/",
          "height": 34
        }
      },
      "source": [
        "try:\n",
        "  # %tensorflow_version only exists in Colab.\n",
        "  %tensorflow_version 2.x\n",
        "except Exception:\n",
        "  pass"
      ],
      "execution_count": 0,
      "outputs": [
        {
          "output_type": "stream",
          "text": [
            "TensorFlow 2.x selected.\n"
          ],
          "name": "stdout"
        }
      ]
    },
    {
      "cell_type": "code",
      "metadata": {
        "id": "-7LLB2KQO_56",
        "colab_type": "code",
        "colab": {}
      },
      "source": [
        "import numpy as np\n",
        "from tensorflow.keras.datasets import boston_housing\n",
        "from tensorflow.keras.models import Sequential\n",
        "from tensorflow.keras.layers import Dense, Dropout\n",
        "from tensorflow.keras.layers import BatchNormalization\n",
        "from tensorflow.keras.callbacks import ModelCheckpoint\n",
        "from tensorflow.keras.callbacks import TensorBoard # New!\n",
        "import os\n",
        "\n"
      ],
      "execution_count": 0,
      "outputs": []
    },
    {
      "cell_type": "markdown",
      "metadata": {
        "id": "fKEF04jmZsr4",
        "colab_type": "text"
      },
      "source": [
        "Load data"
      ]
    },
    {
      "cell_type": "code",
      "metadata": {
        "id": "DaZ1eKdAZuqh",
        "colab_type": "code",
        "outputId": "a0c37b0d-729e-4d9b-e2dd-dc2dd1847926",
        "colab": {
          "base_uri": "https://localhost:8080/",
          "height": 71
        }
      },
      "source": [
        "(X_train, y_train), (X_valid, y_valid) = boston_housing.load_data()"
      ],
      "execution_count": 0,
      "outputs": [
        {
          "output_type": "stream",
          "text": [
            "Downloading data from https://storage.googleapis.com/tensorflow/tf-keras-datasets/boston_housing.npz\n",
            "57344/57026 [==============================] - 0s 0us/step\n"
          ],
          "name": "stdout"
        }
      ]
    },
    {
      "cell_type": "code",
      "metadata": {
        "id": "2Z_7rMrUZ7gD",
        "colab_type": "code",
        "outputId": "359e497e-f670-46d0-99d3-54e42897befd",
        "colab": {
          "base_uri": "https://localhost:8080/",
          "height": 34
        }
      },
      "source": [
        "X_train.shape"
      ],
      "execution_count": 0,
      "outputs": [
        {
          "output_type": "execute_result",
          "data": {
            "text/plain": [
              "(404, 13)"
            ]
          },
          "metadata": {
            "tags": []
          },
          "execution_count": 4
        }
      ]
    },
    {
      "cell_type": "code",
      "metadata": {
        "id": "wyfNuQ6LaAnx",
        "colab_type": "code",
        "outputId": "42b9a9a8-bb94-4130-f388-91118ee68658",
        "colab": {
          "base_uri": "https://localhost:8080/",
          "height": 34
        }
      },
      "source": [
        "X_valid.shape"
      ],
      "execution_count": 0,
      "outputs": [
        {
          "output_type": "execute_result",
          "data": {
            "text/plain": [
              "(102, 13)"
            ]
          },
          "metadata": {
            "tags": []
          },
          "execution_count": 5
        }
      ]
    },
    {
      "cell_type": "code",
      "metadata": {
        "id": "F8p2WrTyaEdo",
        "colab_type": "code",
        "outputId": "2dcbd39c-9422-4e92-e95d-8bf3c4996b50",
        "colab": {
          "base_uri": "https://localhost:8080/",
          "height": 68
        }
      },
      "source": [
        "X_train[0]"
      ],
      "execution_count": 0,
      "outputs": [
        {
          "output_type": "execute_result",
          "data": {
            "text/plain": [
              "array([  1.23247,   0.     ,   8.14   ,   0.     ,   0.538  ,   6.142  ,\n",
              "        91.7    ,   3.9769 ,   4.     , 307.     ,  21.     , 396.9    ,\n",
              "        18.72   ])"
            ]
          },
          "metadata": {
            "tags": []
          },
          "execution_count": 6
        }
      ]
    },
    {
      "cell_type": "code",
      "metadata": {
        "id": "KuZvpM8TaEto",
        "colab_type": "code",
        "outputId": "e1ac67f7-c622-437c-dd52-152dd0d93660",
        "colab": {
          "base_uri": "https://localhost:8080/",
          "height": 34
        }
      },
      "source": [
        "y_train[0]"
      ],
      "execution_count": 0,
      "outputs": [
        {
          "output_type": "execute_result",
          "data": {
            "text/plain": [
              "15.2"
            ]
          },
          "metadata": {
            "tags": []
          },
          "execution_count": 7
        }
      ]
    },
    {
      "cell_type": "markdown",
      "metadata": {
        "id": "t1tYKbQKa78f",
        "colab_type": "text"
      },
      "source": [
        "# Design neural network architecture"
      ]
    },
    {
      "cell_type": "code",
      "metadata": {
        "id": "LqwXJufibCRw",
        "colab_type": "code",
        "colab": {}
      },
      "source": [
        "model = Sequential()\n",
        "\n",
        "model.add(Dense(32, input_dim=13, activation='relu'))\n",
        "model.add(BatchNormalization())\n",
        "\n",
        "model.add(Dense(16, activation='relu'))\n",
        "model.add(BatchNormalization())\n",
        "model.add(Dropout(0.5))\n",
        "\n",
        "model.add(Dense(1, activation='linear'))"
      ],
      "execution_count": 0,
      "outputs": []
    },
    {
      "cell_type": "code",
      "metadata": {
        "id": "BfPephEnbis9",
        "colab_type": "code",
        "outputId": "fcf62219-5fe1-4c21-af0d-b8144ef531eb",
        "colab": {
          "base_uri": "https://localhost:8080/",
          "height": 357
        }
      },
      "source": [
        "model.summary()"
      ],
      "execution_count": 0,
      "outputs": [
        {
          "output_type": "stream",
          "text": [
            "Model: \"sequential\"\n",
            "_________________________________________________________________\n",
            "Layer (type)                 Output Shape              Param #   \n",
            "=================================================================\n",
            "dense (Dense)                (None, 32)                448       \n",
            "_________________________________________________________________\n",
            "batch_normalization (BatchNo (None, 32)                128       \n",
            "_________________________________________________________________\n",
            "dense_1 (Dense)              (None, 16)                528       \n",
            "_________________________________________________________________\n",
            "batch_normalization_1 (Batch (None, 16)                64        \n",
            "_________________________________________________________________\n",
            "dropout (Dropout)            (None, 16)                0         \n",
            "_________________________________________________________________\n",
            "dense_2 (Dense)              (None, 1)                 17        \n",
            "=================================================================\n",
            "Total params: 1,185\n",
            "Trainable params: 1,089\n",
            "Non-trainable params: 96\n",
            "_________________________________________________________________\n"
          ],
          "name": "stdout"
        }
      ]
    },
    {
      "cell_type": "markdown",
      "metadata": {
        "id": "gw6hxgQ-bt6S",
        "colab_type": "text"
      },
      "source": [
        "# Conigure model"
      ]
    },
    {
      "cell_type": "code",
      "metadata": {
        "id": "68O77VDZbxDY",
        "colab_type": "code",
        "colab": {}
      },
      "source": [
        "model.compile(loss='mean_squared_error', optimizer='adam',)"
      ],
      "execution_count": 0,
      "outputs": []
    },
    {
      "cell_type": "code",
      "metadata": {
        "id": "yUhLx788blJ_",
        "colab_type": "code",
        "colab": {}
      },
      "source": [
        "output_dir = 'model_output/'"
      ],
      "execution_count": 0,
      "outputs": []
    },
    {
      "cell_type": "code",
      "metadata": {
        "id": "DCsnJpQ9dCSY",
        "colab_type": "code",
        "colab": {}
      },
      "source": [
        "run_name = 'regression_drop50'\n",
        "output_path = output_dir + run_name"
      ],
      "execution_count": 0,
      "outputs": []
    },
    {
      "cell_type": "code",
      "metadata": {
        "id": "SGE8Qbt1cCrh",
        "colab_type": "code",
        "colab": {}
      },
      "source": [
        "if not os.path.exists(output_path):\n",
        "    os.makedirs(output_path)\n"
      ],
      "execution_count": 0,
      "outputs": []
    },
    {
      "cell_type": "code",
      "metadata": {
        "id": "SOIBlT_IcPaF",
        "colab_type": "code",
        "colab": {}
      },
      "source": [
        "modelcheckpoint = ModelCheckpoint(output_path + '/weights.{epoch:02d}.hdf5', # decimal integers\n",
        "                                  save_weights_only=True) "
      ],
      "execution_count": 0,
      "outputs": []
    },
    {
      "cell_type": "code",
      "metadata": {
        "id": "AjA-xvHMcrZ6",
        "colab_type": "code",
        "colab": {}
      },
      "source": [
        "tensorboard = TensorBoard(log_dir='logs/' + run_name)"
      ],
      "execution_count": 0,
      "outputs": []
    },
    {
      "cell_type": "markdown",
      "metadata": {
        "id": "0B_02FJ4c2hu",
        "colab_type": "text"
      },
      "source": [
        "Train!"
      ]
    },
    {
      "cell_type": "code",
      "metadata": {
        "id": "GQrSNgG2dvbe",
        "colab_type": "code",
        "outputId": "ad9ea1f4-e7e5-4689-9c14-2be703611085",
        "colab": {
          "base_uri": "https://localhost:8080/",
          "height": 1000
        }
      },
      "source": [
        "model.fit(X_train, y_train,\n",
        "          batch_size=8, epochs=32, verbose=1,\n",
        "          validation_data=(X_valid, y_valid),\n",
        "          callbacks=[modelcheckpoint, tensorboard])"
      ],
      "execution_count": 0,
      "outputs": [
        {
          "output_type": "stream",
          "text": [
            "Train on 404 samples, validate on 102 samples\n",
            "Epoch 1/32\n",
            "404/404 [==============================] - 1s 2ms/sample - loss: 578.0956 - val_loss: 891.1875\n",
            "Epoch 2/32\n",
            "404/404 [==============================] - 0s 380us/sample - loss: 565.7627 - val_loss: 737.9305\n",
            "Epoch 3/32\n",
            "404/404 [==============================] - 0s 388us/sample - loss: 546.6597 - val_loss: 656.4000\n",
            "Epoch 4/32\n",
            "404/404 [==============================] - 0s 392us/sample - loss: 535.4493 - val_loss: 597.6015\n",
            "Epoch 5/32\n",
            "404/404 [==============================] - 0s 394us/sample - loss: 516.4525 - val_loss: 564.2752\n",
            "Epoch 6/32\n",
            "404/404 [==============================] - 0s 401us/sample - loss: 495.5425 - val_loss: 533.2799\n",
            "Epoch 7/32\n",
            "404/404 [==============================] - 0s 391us/sample - loss: 469.0547 - val_loss: 494.6912\n",
            "Epoch 8/32\n",
            "404/404 [==============================] - 0s 382us/sample - loss: 438.9973 - val_loss: 464.9697\n",
            "Epoch 9/32\n",
            "404/404 [==============================] - 0s 379us/sample - loss: 411.3631 - val_loss: 461.5632\n",
            "Epoch 10/32\n",
            "404/404 [==============================] - 0s 384us/sample - loss: 384.5081 - val_loss: 414.5313\n",
            "Epoch 11/32\n",
            "404/404 [==============================] - 0s 389us/sample - loss: 355.5228 - val_loss: 349.0221\n",
            "Epoch 12/32\n",
            "404/404 [==============================] - 0s 410us/sample - loss: 325.6150 - val_loss: 269.5608\n",
            "Epoch 13/32\n",
            "404/404 [==============================] - 0s 390us/sample - loss: 281.8202 - val_loss: 245.4867\n",
            "Epoch 14/32\n",
            "404/404 [==============================] - 0s 402us/sample - loss: 254.1402 - val_loss: 180.4286\n",
            "Epoch 15/32\n",
            "404/404 [==============================] - 0s 393us/sample - loss: 222.9518 - val_loss: 140.9249\n",
            "Epoch 16/32\n",
            "404/404 [==============================] - 0s 399us/sample - loss: 196.5569 - val_loss: 99.8600\n",
            "Epoch 17/32\n",
            "404/404 [==============================] - 0s 398us/sample - loss: 170.5598 - val_loss: 93.6811\n",
            "Epoch 18/32\n",
            "404/404 [==============================] - 0s 397us/sample - loss: 160.6537 - val_loss: 102.0908\n",
            "Epoch 19/32\n",
            "404/404 [==============================] - 0s 401us/sample - loss: 136.6551 - val_loss: 81.6195\n",
            "Epoch 20/32\n",
            "404/404 [==============================] - 0s 410us/sample - loss: 125.9839 - val_loss: 63.8658\n",
            "Epoch 21/32\n",
            "404/404 [==============================] - 0s 417us/sample - loss: 116.9863 - val_loss: 71.4304\n",
            "Epoch 22/32\n",
            "404/404 [==============================] - 0s 402us/sample - loss: 95.0999 - val_loss: 99.3994\n",
            "Epoch 23/32\n",
            "404/404 [==============================] - 0s 420us/sample - loss: 93.0707 - val_loss: 51.9331\n",
            "Epoch 24/32\n",
            "404/404 [==============================] - 0s 398us/sample - loss: 92.5156 - val_loss: 65.7941\n",
            "Epoch 25/32\n",
            "404/404 [==============================] - 0s 390us/sample - loss: 91.7400 - val_loss: 31.3962\n",
            "Epoch 26/32\n",
            "404/404 [==============================] - 0s 384us/sample - loss: 79.4234 - val_loss: 63.4064\n",
            "Epoch 27/32\n",
            "404/404 [==============================] - 0s 390us/sample - loss: 79.0229 - val_loss: 59.6501\n",
            "Epoch 28/32\n",
            "404/404 [==============================] - 0s 414us/sample - loss: 69.6941 - val_loss: 48.6889\n",
            "Epoch 29/32\n",
            "404/404 [==============================] - 0s 387us/sample - loss: 73.4667 - val_loss: 32.9811\n",
            "Epoch 30/32\n",
            "404/404 [==============================] - 0s 413us/sample - loss: 65.5092 - val_loss: 27.0246\n",
            "Epoch 31/32\n",
            "404/404 [==============================] - 0s 390us/sample - loss: 66.6828 - val_loss: 42.8166\n",
            "Epoch 32/32\n",
            "404/404 [==============================] - 0s 422us/sample - loss: 69.1298 - val_loss: 33.9280\n"
          ],
          "name": "stdout"
        },
        {
          "output_type": "execute_result",
          "data": {
            "text/plain": [
              "<tensorflow.python.keras.callbacks.History at 0x7f10c4f13eb8>"
            ]
          },
          "metadata": {
            "tags": []
          },
          "execution_count": 38
        }
      ]
    },
    {
      "cell_type": "markdown",
      "metadata": {
        "id": "yrGqbhZ0eKFv",
        "colab_type": "text"
      },
      "source": [
        "Performa"
      ]
    }
  ]
}
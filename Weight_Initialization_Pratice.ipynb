{
  "nbformat": 4,
  "nbformat_minor": 0,
  "metadata": {
    "colab": {
      "name": "21_3.1_Weight_Initialization_Pratice",
      "provenance": [],
      "authorship_tag": "ABX9TyOSs1GsKZ9Ijmp/hDRTWg5j"
    },
    "kernelspec": {
      "name": "python3",
      "display_name": "Python 3"
    }
  },
  "cells": [
    {
      "cell_type": "markdown",
      "metadata": {
        "id": "ipcaatat6tcg",
        "colab_type": "text"
      },
      "source": [
        "# Weight Initialization\n",
        "In this notebook, we experimental with weight initialization approaches to examine their impact on layer outputs.\n"
      ]
    },
    {
      "cell_type": "markdown",
      "metadata": {
        "id": "nPtDsbYT7QRE",
        "colab_type": "text"
      },
      "source": [
        "# Load correct version of TensorFlow"
      ]
    },
    {
      "cell_type": "code",
      "metadata": {
        "id": "VLtcgXQr7Y_6",
        "colab_type": "code",
        "colab": {}
      },
      "source": [
        "# Install TensorFlow using Colab's tensorflow_version command\n",
        "try:\n",
        "  # %tensorflow_version only exists in Colab.\n",
        "  %tensorflow_version 2.x\n",
        "except Exception:\n",
        "  pass"
      ],
      "execution_count": 0,
      "outputs": []
    },
    {
      "cell_type": "markdown",
      "metadata": {
        "id": "4D5zpz8a7dG4",
        "colab_type": "text"
      },
      "source": [
        "Load Dependencies"
      ]
    },
    {
      "cell_type": "code",
      "metadata": {
        "id": "7kclPlmG7gSj",
        "colab_type": "code",
        "colab": {}
      },
      "source": [
        "import numpy as np\n",
        "import matplotlib.pyplot as plt\n",
        "\n",
        "from tensorflow.keras import Sequential\n",
        "from tensorflow.keras.layers import Dense, Activation\n",
        "from tensorflow.keras.initializers import Zeros, RandomNormal, glorot_normal, glorot_uniform"
      ],
      "execution_count": 0,
      "outputs": []
    },
    {
      "cell_type": "markdown",
      "metadata": {
        "id": "NQp3IYEf8dOq",
        "colab_type": "text"
      },
      "source": [
        "# Set number of neurons"
      ]
    },
    {
      "cell_type": "code",
      "metadata": {
        "id": "iqnxLUWP8jSE",
        "colab_type": "code",
        "colab": {}
      },
      "source": [
        "n_input = 784\n",
        "n_dense = 256"
      ],
      "execution_count": 0,
      "outputs": []
    },
    {
      "cell_type": "markdown",
      "metadata": {
        "id": "5JWIt2ET8pQd",
        "colab_type": "text"
      },
      "source": [
        "# Select a bias initializer"
      ]
    },
    {
      "cell_type": "code",
      "metadata": {
        "id": "b_0esm0p8xR8",
        "colab_type": "code",
        "colab": {}
      },
      "source": [
        "b_init = Zeros()"
      ],
      "execution_count": 0,
      "outputs": []
    },
    {
      "cell_type": "markdown",
      "metadata": {
        "id": "BbZ1dIIZBlwO",
        "colab_type": "text"
      },
      "source": [
        "## Select a weight initializer"
      ]
    },
    {
      "cell_type": "code",
      "metadata": {
        "id": "nZ0X9JJvBs6z",
        "colab_type": "code",
        "colab": {}
      },
      "source": [
        "# w_init = RandomNormal(stddev= 1.0)\n",
        "# w_init = glorot_normal()\n",
        "w_init = glorot_uniform()"
      ],
      "execution_count": 0,
      "outputs": []
    },
    {
      "cell_type": "markdown",
      "metadata": {
        "id": "z_S-oar7CHSu",
        "colab_type": "text"
      },
      "source": [
        "# Design neural network architecture"
      ]
    },
    {
      "cell_type": "code",
      "metadata": {
        "id": "QbyaD9EnCM-n",
        "colab_type": "code",
        "colab": {}
      },
      "source": [
        "model = Sequential()\n",
        "model.add(Dense(n_dense, input_dim = n_input,\n",
        "                kernel_initializer = w_init,\n",
        "                bias_initializer = b_init))\n",
        "\n",
        "model.add(Activation('sigmoid'))\n",
        "# model.add(Activation('tanh'))\n",
        "# model.add(Activation('relu'))"
      ],
      "execution_count": 0,
      "outputs": []
    },
    {
      "cell_type": "markdown",
      "metadata": {
        "id": "fLCWJRiEEgsE",
        "colab_type": "text"
      },
      "source": [
        "# Generate random x values"
      ]
    },
    {
      "cell_type": "code",
      "metadata": {
        "id": "XQKqaVGsEyif",
        "colab_type": "code",
        "colab": {}
      },
      "source": [
        "X = np.random.random((1, n_input))"
      ],
      "execution_count": 0,
      "outputs": []
    },
    {
      "cell_type": "markdown",
      "metadata": {
        "id": "cjG_pKgXFF5F",
        "colab_type": "text"
      },
      "source": [
        "# Forward propagate through the network\n"
      ]
    },
    {
      "cell_type": "code",
      "metadata": {
        "id": "yG4AcX6LFOF8",
        "colab_type": "code",
        "colab": {}
      },
      "source": [
        "a = model.predict(X)"
      ],
      "execution_count": 0,
      "outputs": []
    },
    {
      "cell_type": "code",
      "metadata": {
        "id": "sUJBcCMnFyH4",
        "colab_type": "code",
        "outputId": "78ac8046-a549-4823-edf9-94e89e21a6d4",
        "colab": {
          "base_uri": "https://localhost:8080/",
          "height": 901
        }
      },
      "source": [
        "a"
      ],
      "execution_count": 0,
      "outputs": [
        {
          "output_type": "execute_result",
          "data": {
            "text/plain": [
              "array([[0.44214147, 0.37596077, 0.44230548, 0.31097615, 0.57126445,\n",
              "        0.5155679 , 0.57587093, 0.4608924 , 0.64192915, 0.75413805,\n",
              "        0.42227018, 0.6211863 , 0.6698084 , 0.80628973, 0.48098135,\n",
              "        0.47788936, 0.7030965 , 0.5102372 , 0.61696386, 0.47000816,\n",
              "        0.2803994 , 0.688285  , 0.5075477 , 0.65471816, 0.6012766 ,\n",
              "        0.7607452 , 0.74808484, 0.31170216, 0.88699275, 0.605676  ,\n",
              "        0.5369201 , 0.64743197, 0.7176309 , 0.44416592, 0.51139504,\n",
              "        0.6647459 , 0.6477625 , 0.64517826, 0.61014736, 0.40866238,\n",
              "        0.4491431 , 0.4892484 , 0.8396509 , 0.58178955, 0.5038807 ,\n",
              "        0.43571296, 0.36102948, 0.6653299 , 0.68544054, 0.29262227,\n",
              "        0.31029028, 0.26290432, 0.7357292 , 0.3849414 , 0.5220508 ,\n",
              "        0.44216904, 0.3100509 , 0.7128121 , 0.6273679 , 0.5041146 ,\n",
              "        0.35266498, 0.47716776, 0.659294  , 0.06540693, 0.292185  ,\n",
              "        0.57773966, 0.30642095, 0.70085377, 0.28411716, 0.5532601 ,\n",
              "        0.639772  , 0.4491346 , 0.45473716, 0.07581282, 0.24263045,\n",
              "        0.32400268, 0.39228806, 0.35187405, 0.6102363 , 0.34159893,\n",
              "        0.61325824, 0.49311268, 0.33040062, 0.35362777, 0.6760077 ,\n",
              "        0.436952  , 0.5239638 , 0.38566184, 0.54764366, 0.5224136 ,\n",
              "        0.5417155 , 0.5802321 , 0.34468102, 0.37298977, 0.74714154,\n",
              "        0.43244037, 0.62828416, 0.60886616, 0.42393827, 0.62085426,\n",
              "        0.73791856, 0.53171384, 0.3728219 , 0.6360537 , 0.60813206,\n",
              "        0.3460162 , 0.39368933, 0.63756955, 0.609997  , 0.51129025,\n",
              "        0.663012  , 0.63772285, 0.34291548, 0.33763084, 0.33091274,\n",
              "        0.65191513, 0.2949769 , 0.3857263 , 0.83787644, 0.6075909 ,\n",
              "        0.18174022, 0.48838055, 0.5730093 , 0.48109782, 0.5157577 ,\n",
              "        0.38468024, 0.6544655 , 0.39901975, 0.62560374, 0.1814785 ,\n",
              "        0.20219749, 0.48285806, 0.59351957, 0.5284482 , 0.44763923,\n",
              "        0.3747902 , 0.63124835, 0.5304607 , 0.4767409 , 0.494518  ,\n",
              "        0.8965654 , 0.5179164 , 0.50171155, 0.38444746, 0.12782663,\n",
              "        0.47866532, 0.64579135, 0.607847  , 0.28920326, 0.5519884 ,\n",
              "        0.4063204 , 0.33864513, 0.61665237, 0.7926848 , 0.7471604 ,\n",
              "        0.75745666, 0.3610485 , 0.17684324, 0.63574374, 0.8149915 ,\n",
              "        0.49285403, 0.66897833, 0.60002065, 0.4334835 , 0.28521138,\n",
              "        0.5453966 , 0.5035024 , 0.6706399 , 0.54871523, 0.17396943,\n",
              "        0.44072515, 0.6082478 , 0.5928219 , 0.21505643, 0.36404938,\n",
              "        0.41960835, 0.6241908 , 0.40372932, 0.5526119 , 0.26977566,\n",
              "        0.38458318, 0.32592028, 0.42101645, 0.55917025, 0.5292973 ,\n",
              "        0.23487504, 0.4782878 , 0.532762  , 0.63335615, 0.58248734,\n",
              "        0.3512794 , 0.63362795, 0.5928745 , 0.6188636 , 0.4511334 ,\n",
              "        0.43098688, 0.51063156, 0.7363173 , 0.29813537, 0.80351603,\n",
              "        0.41062415, 0.5135882 , 0.27008697, 0.58752894, 0.63651705,\n",
              "        0.49801663, 0.33994484, 0.47428754, 0.40591973, 0.68408126,\n",
              "        0.55709416, 0.4730988 , 0.7051299 , 0.35101333, 0.2544321 ,\n",
              "        0.7238814 , 0.44577357, 0.39121577, 0.5954964 , 0.34060788,\n",
              "        0.43300262, 0.5146712 , 0.8288319 , 0.53023493, 0.5350936 ,\n",
              "        0.3732642 , 0.7179645 , 0.7053561 , 0.5301592 , 0.52638465,\n",
              "        0.4570039 , 0.49142608, 0.5335225 , 0.3503053 , 0.5357464 ,\n",
              "        0.40755147, 0.6026929 , 0.5202847 , 0.6218117 , 0.7641759 ,\n",
              "        0.6278936 , 0.5136572 , 0.32609674, 0.581403  , 0.49656832,\n",
              "        0.63388824, 0.6457508 , 0.47626224, 0.3606543 , 0.745889  ,\n",
              "        0.3389832 , 0.7356886 , 0.35384622, 0.3544671 , 0.32845113,\n",
              "        0.5372774 ]], dtype=float32)"
            ]
          },
          "metadata": {
            "tags": []
          },
          "execution_count": 35
        }
      ]
    },
    {
      "cell_type": "code",
      "metadata": {
        "id": "LM1XoyoeFzGw",
        "colab_type": "code",
        "outputId": "114be54a-0223-4e32-d036-b3c7402f8b5b",
        "colab": {
          "base_uri": "https://localhost:8080/",
          "height": 265
        }
      },
      "source": [
        "_ = plt.hist(np.transpose(a))"
      ],
      "execution_count": 0,
      "outputs": [
        {
          "output_type": "display_data",
          "data": {
            "image/png": "[encoded data removed]",
            "text/plain": [
              "<Figure size 432x288 with 1 Axes>"
            ]
          },
          "metadata": {
            "tags": []
          }
        }
      ]
    },
    {
      "cell_type": "code",
      "metadata": {
        "id": "pqXPgOYzF6nO",
        "colab_type": "code",
        "colab": {}
      },
      "source": [
        ""
      ],
      "execution_count": 0,
      "outputs": []
    }
  ]
}
{
  "nbformat": 4,
  "nbformat_minor": 0,
  "metadata": {
    "colab": {
      "name": "09_1.7_Shallow_net_in _tensorflow_Pratice",
      "provenance": [],
      "authorship_tag": "ABX9TyOf/6MNAsF2TPpZqVJAW9+W"
    },
    "kernelspec": {
      "name": "python3",
      "display_name": "Python 3"
    }
  },
  "cells": [
    {
      "cell_type": "markdown",
      "metadata": {
        "id": "95YEkxq7De2B",
        "colab_type": "text"
      },
      "source": [
        "# Shallow Neural Network in Tensorflow\n",
        "Build a shallow neural network to classify handwritten digits\n"
      ]
    },
    {
      "cell_type": "markdown",
      "metadata": {
        "id": "L4qhzWAJD3AJ",
        "colab_type": "text"
      },
      "source": [
        "## Load correct version of TensorFlow"
      ]
    },
    {
      "cell_type": "code",
      "metadata": {
        "id": "k7gmoDFUEJaK",
        "colab_type": "code",
        "colab": {}
      },
      "source": [
        "# Install TensorFlow using Colab's tensorflow_version command\n",
        "try:\n",
        "  # %tensorflow_version only exists in Colab.\n",
        "  %tensorflow_version 2.x\n",
        "except Exception:\n",
        "  pass"
      ],
      "execution_count": 0,
      "outputs": []
    },
    {
      "cell_type": "markdown",
      "metadata": {
        "id": "V6xTCrFkEUnk",
        "colab_type": "text"
      },
      "source": [
        "# Load Dependencies here"
      ]
    },
    {
      "cell_type": "code",
      "metadata": {
        "id": "i8g4rPkTEbN7",
        "colab_type": "code",
        "colab": {}
      },
      "source": [
        "import tensorflow \n",
        "from tensorflow.keras.datasets import mnist\n",
        "from tensorflow.keras.utils import to_categorical\n",
        "from tensorflow.keras.models import Sequential\n",
        "from tensorflow.keras.layers import Dense\n",
        "from tensorflow.keras.optimizers import SGD\n",
        "from matplotlib import pyplot as plt\n"
      ],
      "execution_count": 0,
      "outputs": []
    },
    {
      "cell_type": "markdown",
      "metadata": {
        "id": "PQLnPafAGe6P",
        "colab_type": "text"
      },
      "source": [
        "# Load Data"
      ]
    },
    {
      "cell_type": "code",
      "metadata": {
        "id": "wII3RCbyGh1E",
        "colab_type": "code",
        "colab": {}
      },
      "source": [
        "(X_train, y_train), (X_valid, y_valid) = mnist.load_data()"
      ],
      "execution_count": 0,
      "outputs": []
    },
    {
      "cell_type": "code",
      "metadata": {
        "id": "xmRUtNIoG69O",
        "colab_type": "code",
        "outputId": "03fe8ca1-88d3-4be9-b02c-9f4fa646aa3c",
        "colab": {
          "base_uri": "https://localhost:8080/",
          "height": 34
        }
      },
      "source": [
        " X_train.shape"
      ],
      "execution_count": 0,
      "outputs": [
        {
          "output_type": "execute_result",
          "data": {
            "text/plain": [
              "(60000, 28, 28)"
            ]
          },
          "metadata": {
            "tags": []
          },
          "execution_count": 10
        }
      ]
    },
    {
      "cell_type": "code",
      "metadata": {
        "id": "C_JK_ax4G-rK",
        "colab_type": "code",
        "outputId": "4dd4aaaa-f6e5-4fa9-f2ec-f59da470987c",
        "colab": {
          "base_uri": "https://localhost:8080/",
          "height": 34
        }
      },
      "source": [
        "y_train.shape"
      ],
      "execution_count": 0,
      "outputs": [
        {
          "output_type": "execute_result",
          "data": {
            "text/plain": [
              "(60000,)"
            ]
          },
          "metadata": {
            "tags": []
          },
          "execution_count": 11
        }
      ]
    },
    {
      "cell_type": "code",
      "metadata": {
        "id": "Wk6UY5kcHB89",
        "colab_type": "code",
        "outputId": "275b119a-f820-41a4-bb16-2936c07c4a87",
        "colab": {
          "base_uri": "https://localhost:8080/",
          "height": 34
        }
      },
      "source": [
        "y_train[0:12]"
      ],
      "execution_count": 0,
      "outputs": [
        {
          "output_type": "execute_result",
          "data": {
            "text/plain": [
              "array([5, 0, 4, 1, 9, 2, 1, 3, 1, 4, 3, 5], dtype=uint8)"
            ]
          },
          "metadata": {
            "tags": []
          },
          "execution_count": 12
        }
      ]
    },
    {
      "cell_type": "code",
      "metadata": {
        "id": "EP0XMb6RHFwy",
        "colab_type": "code",
        "outputId": "da1c548e-b667-4b84-c0ad-62a24b1805c2",
        "colab": {
          "base_uri": "https://localhost:8080/",
          "height": 327
        }
      },
      "source": [
        " plt.figure(figsize=(5,5))\n",
        " for k in range(12):\n",
        "   plt.subplot(3, 4, k+1)\n",
        "   plt.imshow(X_train[k], cmap='Greys')\n",
        "   plt.axis('off')\n",
        "plt.tight_layout()\n",
        "plt.show()"
      ],
      "execution_count": 0,
      "outputs": [
        {
          "output_type": "display_data",
          "data": {
            "image/png": "[encoded data removed]",
            "text/plain": [
              "<Figure size 360x360 with 12 Axes>"
            ]
          },
          "metadata": {
            "tags": []
          }
        }
      ]
    },
    {
      "cell_type": "code",
      "metadata": {
        "id": "eTQW6YAPIakC",
        "colab_type": "code",
        "outputId": "e7894ad9-390c-43b4-9d3f-5364b7c1ff50",
        "colab": {
          "base_uri": "https://localhost:8080/",
          "height": 34
        }
      },
      "source": [
        "X_valid.shape"
      ],
      "execution_count": 0,
      "outputs": [
        {
          "output_type": "execute_result",
          "data": {
            "text/plain": [
              "(10000, 28, 28)"
            ]
          },
          "metadata": {
            "tags": []
          },
          "execution_count": 14
        }
      ]
    },
    {
      "cell_type": "code",
      "metadata": {
        "id": "ROs-JBeJJMoQ",
        "colab_type": "code",
        "outputId": "0f71c29a-3c89-46fa-8227-65102c91cb85",
        "colab": {
          "base_uri": "https://localhost:8080/",
          "height": 34
        }
      },
      "source": [
        "y_valid.shape"
      ],
      "execution_count": 0,
      "outputs": [
        {
          "output_type": "execute_result",
          "data": {
            "text/plain": [
              "(10000,)"
            ]
          },
          "metadata": {
            "tags": []
          },
          "execution_count": 15
        }
      ]
    },
    {
      "cell_type": "code",
      "metadata": {
        "id": "d4_cZEaxJQ0r",
        "colab_type": "code",
        "outputId": "dd32ed47-a4a1-4256-ad96-06672fb73c38",
        "colab": {
          "base_uri": "https://localhost:8080/",
          "height": 282
        }
      },
      "source": [
        "plt.imshow(X_valid[0],cmap='Greys')"
      ],
      "execution_count": 0,
      "outputs": [
        {
          "output_type": "execute_result",
          "data": {
            "text/plain": [
              "<matplotlib.image.AxesImage at 0x7f85d3572e80>"
            ]
          },
          "metadata": {
            "tags": []
          },
          "execution_count": 16
        },
        {
          "output_type": "display_data",
          "data": {
            "image/png": "[encoded data removed]",
            "text/plain": [
              "<Figure size 432x288 with 1 Axes>"
            ]
          },
          "metadata": {
            "tags": []
          }
        }
      ]
    },
    {
      "cell_type": "code",
      "metadata": {
        "id": "Rbs_PHcZJiks",
        "colab_type": "code",
        "outputId": "f46c62fe-1fde-4808-8819-80cf7d21332b",
        "colab": {
          "base_uri": "https://localhost:8080/",
          "height": 1000
        }
      },
      "source": [
        "X_valid[0]"
      ],
      "execution_count": 0,
      "outputs": [
        {
          "output_type": "execute_result",
          "data": {
            "text/plain": [
              "array([[  0,   0,   0,   0,   0,   0,   0,   0,   0,   0,   0,   0,   0,\n",
              "          0,   0,   0,   0,   0,   0,   0,   0,   0,   0,   0,   0,   0,\n",
              "          0,   0],\n",
              "       [  0,   0,   0,   0,   0,   0,   0,   0,   0,   0,   0,   0,   0,\n",
              "          0,   0,   0,   0,   0,   0,   0,   0,   0,   0,   0,   0,   0,\n",
              "          0,   0],\n",
              "       [  0,   0,   0,   0,   0,   0,   0,   0,   0,   0,   0,   0,   0,\n",
              "          0,   0,   0,   0,   0,   0,   0,   0,   0,   0,   0,   0,   0,\n",
              "          0,   0],\n",
              "       [  0,   0,   0,   0,   0,   0,   0,   0,   0,   0,   0,   0,   0,\n",
              "          0,   0,   0,   0,   0,   0,   0,   0,   0,   0,   0,   0,   0,\n",
              "          0,   0],\n",
              "       [  0,   0,   0,   0,   0,   0,   0,   0,   0,   0,   0,   0,   0,\n",
              "          0,   0,   0,   0,   0,   0,   0,   0,   0,   0,   0,   0,   0,\n",
              "          0,   0],\n",
              "       [  0,   0,   0,   0,   0,   0,   0,   0,   0,   0,   0,   0,   0,\n",
              "          0,   0,   0,   0,   0,   0,   0,   0,   0,   0,   0,   0,   0,\n",
              "          0,   0],\n",
              "       [  0,   0,   0,   0,   0,   0,   0,   0,   0,   0,   0,   0,   0,\n",
              "          0,   0,   0,   0,   0,   0,   0,   0,   0,   0,   0,   0,   0,\n",
              "          0,   0],\n",
              "       [  0,   0,   0,   0,   0,   0,  84, 185, 159, 151,  60,  36,   0,\n",
              "          0,   0,   0,   0,   0,   0,   0,   0,   0,   0,   0,   0,   0,\n",
              "          0,   0],\n",
              "       [  0,   0,   0,   0,   0,   0, 222, 254, 254, 254, 254, 241, 198,\n",
              "        198, 198, 198, 198, 198, 198, 198, 170,  52,   0,   0,   0,   0,\n",
              "          0,   0],\n",
              "       [  0,   0,   0,   0,   0,   0,  67, 114,  72, 114, 163, 227, 254,\n",
              "        225, 254, 254, 254, 250, 229, 254, 254, 140,   0,   0,   0,   0,\n",
              "          0,   0],\n",
              "       [  0,   0,   0,   0,   0,   0,   0,   0,   0,   0,   0,  17,  66,\n",
              "         14,  67,  67,  67,  59,  21, 236, 254, 106,   0,   0,   0,   0,\n",
              "          0,   0],\n",
              "       [  0,   0,   0,   0,   0,   0,   0,   0,   0,   0,   0,   0,   0,\n",
              "          0,   0,   0,   0,   0,  83, 253, 209,  18,   0,   0,   0,   0,\n",
              "          0,   0],\n",
              "       [  0,   0,   0,   0,   0,   0,   0,   0,   0,   0,   0,   0,   0,\n",
              "          0,   0,   0,   0,  22, 233, 255,  83,   0,   0,   0,   0,   0,\n",
              "          0,   0],\n",
              "       [  0,   0,   0,   0,   0,   0,   0,   0,   0,   0,   0,   0,   0,\n",
              "          0,   0,   0,   0, 129, 254, 238,  44,   0,   0,   0,   0,   0,\n",
              "          0,   0],\n",
              "       [  0,   0,   0,   0,   0,   0,   0,   0,   0,   0,   0,   0,   0,\n",
              "          0,   0,   0,  59, 249, 254,  62,   0,   0,   0,   0,   0,   0,\n",
              "          0,   0],\n",
              "       [  0,   0,   0,   0,   0,   0,   0,   0,   0,   0,   0,   0,   0,\n",
              "          0,   0,   0, 133, 254, 187,   5,   0,   0,   0,   0,   0,   0,\n",
              "          0,   0],\n",
              "       [  0,   0,   0,   0,   0,   0,   0,   0,   0,   0,   0,   0,   0,\n",
              "          0,   0,   9, 205, 248,  58,   0,   0,   0,   0,   0,   0,   0,\n",
              "          0,   0],\n",
              "       [  0,   0,   0,   0,   0,   0,   0,   0,   0,   0,   0,   0,   0,\n",
              "          0,   0, 126, 254, 182,   0,   0,   0,   0,   0,   0,   0,   0,\n",
              "          0,   0],\n",
              "       [  0,   0,   0,   0,   0,   0,   0,   0,   0,   0,   0,   0,   0,\n",
              "          0,  75, 251, 240,  57,   0,   0,   0,   0,   0,   0,   0,   0,\n",
              "          0,   0],\n",
              "       [  0,   0,   0,   0,   0,   0,   0,   0,   0,   0,   0,   0,   0,\n",
              "         19, 221, 254, 166,   0,   0,   0,   0,   0,   0,   0,   0,   0,\n",
              "          0,   0],\n",
              "       [  0,   0,   0,   0,   0,   0,   0,   0,   0,   0,   0,   0,   3,\n",
              "        203, 254, 219,  35,   0,   0,   0,   0,   0,   0,   0,   0,   0,\n",
              "          0,   0],\n",
              "       [  0,   0,   0,   0,   0,   0,   0,   0,   0,   0,   0,   0,  38,\n",
              "        254, 254,  77,   0,   0,   0,   0,   0,   0,   0,   0,   0,   0,\n",
              "          0,   0],\n",
              "       [  0,   0,   0,   0,   0,   0,   0,   0,   0,   0,   0,  31, 224,\n",
              "        254, 115,   1,   0,   0,   0,   0,   0,   0,   0,   0,   0,   0,\n",
              "          0,   0],\n",
              "       [  0,   0,   0,   0,   0,   0,   0,   0,   0,   0,   0, 133, 254,\n",
              "        254,  52,   0,   0,   0,   0,   0,   0,   0,   0,   0,   0,   0,\n",
              "          0,   0],\n",
              "       [  0,   0,   0,   0,   0,   0,   0,   0,   0,   0,  61, 242, 254,\n",
              "        254,  52,   0,   0,   0,   0,   0,   0,   0,   0,   0,   0,   0,\n",
              "          0,   0],\n",
              "       [  0,   0,   0,   0,   0,   0,   0,   0,   0,   0, 121, 254, 254,\n",
              "        219,  40,   0,   0,   0,   0,   0,   0,   0,   0,   0,   0,   0,\n",
              "          0,   0],\n",
              "       [  0,   0,   0,   0,   0,   0,   0,   0,   0,   0, 121, 254, 207,\n",
              "         18,   0,   0,   0,   0,   0,   0,   0,   0,   0,   0,   0,   0,\n",
              "          0,   0],\n",
              "       [  0,   0,   0,   0,   0,   0,   0,   0,   0,   0,   0,   0,   0,\n",
              "          0,   0,   0,   0,   0,   0,   0,   0,   0,   0,   0,   0,   0,\n",
              "          0,   0]], dtype=uint8)"
            ]
          },
          "metadata": {
            "tags": []
          },
          "execution_count": 17
        }
      ]
    },
    {
      "cell_type": "code",
      "metadata": {
        "id": "ttvf6XgoJvYE",
        "colab_type": "code",
        "outputId": "ba0ca0f1-b759-4145-c3a3-634fcc40e29f",
        "colab": {
          "base_uri": "https://localhost:8080/",
          "height": 34
        }
      },
      "source": [
        "y_valid[0]"
      ],
      "execution_count": 0,
      "outputs": [
        {
          "output_type": "execute_result",
          "data": {
            "text/plain": [
              "7"
            ]
          },
          "metadata": {
            "tags": []
          },
          "execution_count": 18
        }
      ]
    },
    {
      "cell_type": "markdown",
      "metadata": {
        "id": "VDWOwhTFMEtd",
        "colab_type": "text"
      },
      "source": [
        "# Preprocess data"
      ]
    },
    {
      "cell_type": "code",
      "metadata": {
        "id": "mY9hxt49MJfW",
        "colab_type": "code",
        "colab": {}
      },
      "source": [
        "X_train = X_train.reshape(60000,784).astype('float32')\n",
        "X_valid = X_valid.reshape(10000,784).astype('float32')"
      ],
      "execution_count": 0,
      "outputs": []
    },
    {
      "cell_type": "code",
      "metadata": {
        "id": "_dMXgUl7MkYj",
        "colab_type": "code",
        "colab": {}
      },
      "source": [
        "X_train /= 255\n",
        "X_valid /= 255"
      ],
      "execution_count": 0,
      "outputs": []
    },
    {
      "cell_type": "code",
      "metadata": {
        "id": "2RU27P_6ND_W",
        "colab_type": "code",
        "outputId": "6870340c-478e-4b76-8bcd-0c4c468c2863",
        "colab": {
          "base_uri": "https://localhost:8080/",
          "height": 1000
        }
      },
      "source": [
        "X_valid[0]"
      ],
      "execution_count": 0,
      "outputs": [
        {
          "output_type": "execute_result",
          "data": {
            "text/plain": [
              "array([0.        , 0.        , 0.        , 0.        , 0.        ,\n",
              "       0.        , 0.        , 0.        , 0.        , 0.        ,\n",
              "       0.        , 0.        , 0.        , 0.        , 0.        ,\n",
              "       0.        , 0.        , 0.        , 0.        , 0.        ,\n",
              "       0.        , 0.        , 0.        , 0.        , 0.        ,\n",
              "       0.        , 0.        , 0.        , 0.        , 0.        ,\n",
              "       0.        , 0.        , 0.        , 0.        , 0.        ,\n",
              "       0.        , 0.        , 0.        , 0.        , 0.        ,\n",
              "       0.        , 0.        , 0.        , 0.        , 0.        ,\n",
              "       0.        , 0.        , 0.        , 0.        , 0.        ,\n",
              "       0.        , 0.        , 0.        , 0.        , 0.        ,\n",
              "       0.        , 0.        , 0.        , 0.        , 0.        ,\n",
              "       0.        , 0.        , 0.        , 0.        , 0.        ,\n",
              "       0.        , 0.        , 0.        , 0.        , 0.        ,\n",
              "       0.        , 0.        , 0.        , 0.        , 0.        ,\n",
              "       0.        , 0.        , 0.        , 0.        , 0.        ,\n",
              "       0.        , 0.        , 0.        , 0.        , 0.        ,\n",
              "       0.        , 0.        , 0.        , 0.        , 0.        ,\n",
              "       0.        , 0.        , 0.        , 0.        , 0.        ,\n",
              "       0.        , 0.        , 0.        , 0.        , 0.        ,\n",
              "       0.        , 0.        , 0.        , 0.        , 0.        ,\n",
              "       0.        , 0.        , 0.        , 0.        , 0.        ,\n",
              "       0.        , 0.        , 0.        , 0.        , 0.        ,\n",
              "       0.        , 0.        , 0.        , 0.        , 0.        ,\n",
              "       0.        , 0.        , 0.        , 0.        , 0.        ,\n",
              "       0.        , 0.        , 0.        , 0.        , 0.        ,\n",
              "       0.        , 0.        , 0.        , 0.        , 0.        ,\n",
              "       0.        , 0.        , 0.        , 0.        , 0.        ,\n",
              "       0.        , 0.        , 0.        , 0.        , 0.        ,\n",
              "       0.        , 0.        , 0.        , 0.        , 0.        ,\n",
              "       0.        , 0.        , 0.        , 0.        , 0.        ,\n",
              "       0.        , 0.        , 0.        , 0.        , 0.        ,\n",
              "       0.        , 0.        , 0.        , 0.        , 0.        ,\n",
              "       0.        , 0.        , 0.        , 0.        , 0.        ,\n",
              "       0.        , 0.        , 0.        , 0.        , 0.        ,\n",
              "       0.        , 0.        , 0.        , 0.        , 0.        ,\n",
              "       0.        , 0.        , 0.        , 0.        , 0.        ,\n",
              "       0.        , 0.        , 0.        , 0.        , 0.        ,\n",
              "       0.        , 0.        , 0.        , 0.        , 0.        ,\n",
              "       0.        , 0.        , 0.        , 0.        , 0.        ,\n",
              "       0.        , 0.        , 0.32941177, 0.7254902 , 0.62352943,\n",
              "       0.5921569 , 0.23529412, 0.14117648, 0.        , 0.        ,\n",
              "       0.        , 0.        , 0.        , 0.        , 0.        ,\n",
              "       0.        , 0.        , 0.        , 0.        , 0.        ,\n",
              "       0.        , 0.        , 0.        , 0.        , 0.        ,\n",
              "       0.        , 0.        , 0.        , 0.        , 0.        ,\n",
              "       0.87058824, 0.99607843, 0.99607843, 0.99607843, 0.99607843,\n",
              "       0.94509804, 0.7764706 , 0.7764706 , 0.7764706 , 0.7764706 ,\n",
              "       0.7764706 , 0.7764706 , 0.7764706 , 0.7764706 , 0.6666667 ,\n",
              "       0.20392157, 0.        , 0.        , 0.        , 0.        ,\n",
              "       0.        , 0.        , 0.        , 0.        , 0.        ,\n",
              "       0.        , 0.        , 0.        , 0.2627451 , 0.44705883,\n",
              "       0.28235295, 0.44705883, 0.6392157 , 0.8901961 , 0.99607843,\n",
              "       0.88235295, 0.99607843, 0.99607843, 0.99607843, 0.98039216,\n",
              "       0.8980392 , 0.99607843, 0.99607843, 0.54901963, 0.        ,\n",
              "       0.        , 0.        , 0.        , 0.        , 0.        ,\n",
              "       0.        , 0.        , 0.        , 0.        , 0.        ,\n",
              "       0.        , 0.        , 0.        , 0.        , 0.        ,\n",
              "       0.        , 0.06666667, 0.25882354, 0.05490196, 0.2627451 ,\n",
              "       0.2627451 , 0.2627451 , 0.23137255, 0.08235294, 0.9254902 ,\n",
              "       0.99607843, 0.41568628, 0.        , 0.        , 0.        ,\n",
              "       0.        , 0.        , 0.        , 0.        , 0.        ,\n",
              "       0.        , 0.        , 0.        , 0.        , 0.        ,\n",
              "       0.        , 0.        , 0.        , 0.        , 0.        ,\n",
              "       0.        , 0.        , 0.        , 0.        , 0.        ,\n",
              "       0.        , 0.3254902 , 0.99215686, 0.81960785, 0.07058824,\n",
              "       0.        , 0.        , 0.        , 0.        , 0.        ,\n",
              "       0.        , 0.        , 0.        , 0.        , 0.        ,\n",
              "       0.        , 0.        , 0.        , 0.        , 0.        ,\n",
              "       0.        , 0.        , 0.        , 0.        , 0.        ,\n",
              "       0.        , 0.        , 0.        , 0.08627451, 0.9137255 ,\n",
              "       1.        , 0.3254902 , 0.        , 0.        , 0.        ,\n",
              "       0.        , 0.        , 0.        , 0.        , 0.        ,\n",
              "       0.        , 0.        , 0.        , 0.        , 0.        ,\n",
              "       0.        , 0.        , 0.        , 0.        , 0.        ,\n",
              "       0.        , 0.        , 0.        , 0.        , 0.        ,\n",
              "       0.        , 0.5058824 , 0.99607843, 0.93333334, 0.17254902,\n",
              "       0.        , 0.        , 0.        , 0.        , 0.        ,\n",
              "       0.        , 0.        , 0.        , 0.        , 0.        ,\n",
              "       0.        , 0.        , 0.        , 0.        , 0.        ,\n",
              "       0.        , 0.        , 0.        , 0.        , 0.        ,\n",
              "       0.        , 0.        , 0.        , 0.23137255, 0.9764706 ,\n",
              "       0.99607843, 0.24313726, 0.        , 0.        , 0.        ,\n",
              "       0.        , 0.        , 0.        , 0.        , 0.        ,\n",
              "       0.        , 0.        , 0.        , 0.        , 0.        ,\n",
              "       0.        , 0.        , 0.        , 0.        , 0.        ,\n",
              "       0.        , 0.        , 0.        , 0.        , 0.        ,\n",
              "       0.        , 0.52156866, 0.99607843, 0.73333335, 0.01960784,\n",
              "       0.        , 0.        , 0.        , 0.        , 0.        ,\n",
              "       0.        , 0.        , 0.        , 0.        , 0.        ,\n",
              "       0.        , 0.        , 0.        , 0.        , 0.        ,\n",
              "       0.        , 0.        , 0.        , 0.        , 0.        ,\n",
              "       0.        , 0.        , 0.        , 0.03529412, 0.8039216 ,\n",
              "       0.972549  , 0.22745098, 0.        , 0.        , 0.        ,\n",
              "       0.        , 0.        , 0.        , 0.        , 0.        ,\n",
              "       0.        , 0.        , 0.        , 0.        , 0.        ,\n",
              "       0.        , 0.        , 0.        , 0.        , 0.        ,\n",
              "       0.        , 0.        , 0.        , 0.        , 0.        ,\n",
              "       0.        , 0.49411765, 0.99607843, 0.7137255 , 0.        ,\n",
              "       0.        , 0.        , 0.        , 0.        , 0.        ,\n",
              "       0.        , 0.        , 0.        , 0.        , 0.        ,\n",
              "       0.        , 0.        , 0.        , 0.        , 0.        ,\n",
              "       0.        , 0.        , 0.        , 0.        , 0.        ,\n",
              "       0.        , 0.        , 0.        , 0.29411766, 0.9843137 ,\n",
              "       0.9411765 , 0.22352941, 0.        , 0.        , 0.        ,\n",
              "       0.        , 0.        , 0.        , 0.        , 0.        ,\n",
              "       0.        , 0.        , 0.        , 0.        , 0.        ,\n",
              "       0.        , 0.        , 0.        , 0.        , 0.        ,\n",
              "       0.        , 0.        , 0.        , 0.        , 0.        ,\n",
              "       0.07450981, 0.8666667 , 0.99607843, 0.6509804 , 0.        ,\n",
              "       0.        , 0.        , 0.        , 0.        , 0.        ,\n",
              "       0.        , 0.        , 0.        , 0.        , 0.        ,\n",
              "       0.        , 0.        , 0.        , 0.        , 0.        ,\n",
              "       0.        , 0.        , 0.        , 0.        , 0.        ,\n",
              "       0.        , 0.        , 0.01176471, 0.79607844, 0.99607843,\n",
              "       0.85882354, 0.13725491, 0.        , 0.        , 0.        ,\n",
              "       0.        , 0.        , 0.        , 0.        , 0.        ,\n",
              "       0.        , 0.        , 0.        , 0.        , 0.        ,\n",
              "       0.        , 0.        , 0.        , 0.        , 0.        ,\n",
              "       0.        , 0.        , 0.        , 0.        , 0.        ,\n",
              "       0.14901961, 0.99607843, 0.99607843, 0.3019608 , 0.        ,\n",
              "       0.        , 0.        , 0.        , 0.        , 0.        ,\n",
              "       0.        , 0.        , 0.        , 0.        , 0.        ,\n",
              "       0.        , 0.        , 0.        , 0.        , 0.        ,\n",
              "       0.        , 0.        , 0.        , 0.        , 0.        ,\n",
              "       0.        , 0.        , 0.12156863, 0.8784314 , 0.99607843,\n",
              "       0.4509804 , 0.00392157, 0.        , 0.        , 0.        ,\n",
              "       0.        , 0.        , 0.        , 0.        , 0.        ,\n",
              "       0.        , 0.        , 0.        , 0.        , 0.        ,\n",
              "       0.        , 0.        , 0.        , 0.        , 0.        ,\n",
              "       0.        , 0.        , 0.        , 0.        , 0.        ,\n",
              "       0.52156866, 0.99607843, 0.99607843, 0.20392157, 0.        ,\n",
              "       0.        , 0.        , 0.        , 0.        , 0.        ,\n",
              "       0.        , 0.        , 0.        , 0.        , 0.        ,\n",
              "       0.        , 0.        , 0.        , 0.        , 0.        ,\n",
              "       0.        , 0.        , 0.        , 0.        , 0.        ,\n",
              "       0.        , 0.        , 0.23921569, 0.9490196 , 0.99607843,\n",
              "       0.99607843, 0.20392157, 0.        , 0.        , 0.        ,\n",
              "       0.        , 0.        , 0.        , 0.        , 0.        ,\n",
              "       0.        , 0.        , 0.        , 0.        , 0.        ,\n",
              "       0.        , 0.        , 0.        , 0.        , 0.        ,\n",
              "       0.        , 0.        , 0.        , 0.        , 0.        ,\n",
              "       0.4745098 , 0.99607843, 0.99607843, 0.85882354, 0.15686275,\n",
              "       0.        , 0.        , 0.        , 0.        , 0.        ,\n",
              "       0.        , 0.        , 0.        , 0.        , 0.        ,\n",
              "       0.        , 0.        , 0.        , 0.        , 0.        ,\n",
              "       0.        , 0.        , 0.        , 0.        , 0.        ,\n",
              "       0.        , 0.        , 0.        , 0.4745098 , 0.99607843,\n",
              "       0.8117647 , 0.07058824, 0.        , 0.        , 0.        ,\n",
              "       0.        , 0.        , 0.        , 0.        , 0.        ,\n",
              "       0.        , 0.        , 0.        , 0.        , 0.        ,\n",
              "       0.        , 0.        , 0.        , 0.        , 0.        ,\n",
              "       0.        , 0.        , 0.        , 0.        , 0.        ,\n",
              "       0.        , 0.        , 0.        , 0.        , 0.        ,\n",
              "       0.        , 0.        , 0.        , 0.        , 0.        ,\n",
              "       0.        , 0.        , 0.        , 0.        , 0.        ,\n",
              "       0.        , 0.        , 0.        , 0.        ], dtype=float32)"
            ]
          },
          "metadata": {
            "tags": []
          },
          "execution_count": 21
        }
      ]
    },
    {
      "cell_type": "code",
      "metadata": {
        "id": "PfSwl745NGdN",
        "colab_type": "code",
        "colab": {}
      },
      "source": [
        "n_classes = 10\n",
        "y_train = to_categorical(y_train, n_classes)\n",
        "y_valid = to_categorical(y_valid, n_classes)"
      ],
      "execution_count": 0,
      "outputs": []
    },
    {
      "cell_type": "code",
      "metadata": {
        "id": "BboFIZ63OGdt",
        "colab_type": "code",
        "outputId": "84a74819-fe1c-45db-e3cc-f34dfb1ecf49",
        "colab": {
          "base_uri": "https://localhost:8080/",
          "height": 34
        }
      },
      "source": [
        "y_valid[0]"
      ],
      "execution_count": 0,
      "outputs": [
        {
          "output_type": "execute_result",
          "data": {
            "text/plain": [
              "array([0., 0., 0., 0., 0., 0., 0., 1., 0., 0.], dtype=float32)"
            ]
          },
          "metadata": {
            "tags": []
          },
          "execution_count": 23
        }
      ]
    },
    {
      "cell_type": "markdown",
      "metadata": {
        "id": "dy0qI-dxOW3f",
        "colab_type": "text"
      },
      "source": [
        "Design NN arch"
      ]
    },
    {
      "cell_type": "code",
      "metadata": {
        "id": "F9Su6g3DOZfZ",
        "colab_type": "code",
        "colab": {}
      },
      "source": [
        "model = Sequential()\n",
        "# hidden layer:\n",
        "model.add(Dense(64, activation='relu', input_shape=(784,)))\n",
        "#output layer:\n",
        "model.add(Dense(10, activation='softmax'))"
      ],
      "execution_count": 0,
      "outputs": []
    },
    {
      "cell_type": "code",
      "metadata": {
        "id": "MNXPgQrZOe5_",
        "colab_type": "code",
        "outputId": "0195e498-f252-4736-806e-50e737b10a61",
        "colab": {
          "base_uri": "https://localhost:8080/",
          "height": 221
        }
      },
      "source": [
        "model.summary()"
      ],
      "execution_count": 0,
      "outputs": [
        {
          "output_type": "stream",
          "text": [
            "Model: \"sequential\"\n",
            "_________________________________________________________________\n",
            "Layer (type)                 Output Shape              Param #   \n",
            "=================================================================\n",
            "dense (Dense)                (None, 64)                50240     \n",
            "_________________________________________________________________\n",
            "dense_1 (Dense)              (None, 10)                650       \n",
            "=================================================================\n",
            "Total params: 50,890\n",
            "Trainable params: 50,890\n",
            "Non-trainable params: 0\n",
            "_________________________________________________________________\n"
          ],
          "name": "stdout"
        }
      ]
    },
    {
      "cell_type": "markdown",
      "metadata": {
        "id": "gPISnuA6Pc62",
        "colab_type": "text"
      },
      "source": [
        "## Compile model"
      ]
    },
    {
      "cell_type": "code",
      "metadata": {
        "id": "g04bh437PfbM",
        "colab_type": "code",
        "colab": {}
      },
      "source": [
        "model.compile(loss='mean_squared_error', optimizer=SGD(lr=0.01), metrics=['accuracy'])"
      ],
      "execution_count": 0,
      "outputs": []
    },
    {
      "cell_type": "markdown",
      "metadata": {
        "id": "GxZOjdjZQcqU",
        "colab_type": "text"
      },
      "source": [
        "# Train model"
      ]
    },
    {
      "cell_type": "code",
      "metadata": {
        "id": "Wz3908jUQgum",
        "colab_type": "code",
        "outputId": "13d180dd-6746-4878-8511-9070b121130d",
        "colab": {
          "base_uri": "https://localhost:8080/",
          "height": 1000
        }
      },
      "source": [
        "model.fit(X_train,y_train, batch_size=128, epochs=200, verbose=1, validation_data=(X_valid, y_valid))"
      ],
      "execution_count": 0,
      "outputs": [
        {
          "output_type": "stream",
          "text": [
            "Train on 60000 samples, validate on 10000 samples\n",
            "Epoch 1/200\n",
            "60000/60000 [==============================] - 2s 31us/sample - loss: 0.0918 - accuracy: 0.1006 - val_loss: 0.0910 - val_accuracy: 0.1208\n",
            "Epoch 2/200\n",
            "60000/60000 [==============================] - 1s 22us/sample - loss: 0.0897 - accuracy: 0.1512 - val_loss: 0.0888 - val_accuracy: 0.1761\n",
            "Epoch 3/200\n",
            "60000/60000 [==============================] - 1s 22us/sample - loss: 0.0875 - accuracy: 0.2147 - val_loss: 0.0865 - val_accuracy: 0.2498\n",
            "Epoch 4/200\n",
            "60000/60000 [==============================] - 1s 22us/sample - loss: 0.0851 - accuracy: 0.2950 - val_loss: 0.0841 - val_accuracy: 0.3289\n",
            "Epoch 5/200\n",
            "60000/60000 [==============================] - 1s 22us/sample - loss: 0.0826 - accuracy: 0.3628 - val_loss: 0.0816 - val_accuracy: 0.3860\n",
            "Epoch 6/200\n",
            "60000/60000 [==============================] - 1s 21us/sample - loss: 0.0801 - accuracy: 0.4073 - val_loss: 0.0790 - val_accuracy: 0.4188\n",
            "Epoch 7/200\n",
            "60000/60000 [==============================] - 1s 22us/sample - loss: 0.0774 - accuracy: 0.4353 - val_loss: 0.0762 - val_accuracy: 0.4420\n",
            "Epoch 8/200\n",
            "60000/60000 [==============================] - 1s 21us/sample - loss: 0.0747 - accuracy: 0.4557 - val_loss: 0.0734 - val_accuracy: 0.4635\n",
            "Epoch 9/200\n",
            "60000/60000 [==============================] - 1s 21us/sample - loss: 0.0719 - accuracy: 0.4796 - val_loss: 0.0705 - val_accuracy: 0.4856\n",
            "Epoch 10/200\n",
            "60000/60000 [==============================] - 1s 21us/sample - loss: 0.0690 - accuracy: 0.5070 - val_loss: 0.0675 - val_accuracy: 0.5164\n",
            "Epoch 11/200\n",
            "60000/60000 [==============================] - 1s 22us/sample - loss: 0.0661 - accuracy: 0.5385 - val_loss: 0.0644 - val_accuracy: 0.5548\n",
            "Epoch 12/200\n",
            "60000/60000 [==============================] - 1s 22us/sample - loss: 0.0630 - accuracy: 0.5719 - val_loss: 0.0613 - val_accuracy: 0.5930\n",
            "Epoch 13/200\n",
            "60000/60000 [==============================] - 1s 22us/sample - loss: 0.0601 - accuracy: 0.6061 - val_loss: 0.0582 - val_accuracy: 0.6305\n",
            "Epoch 14/200\n",
            "60000/60000 [==============================] - 1s 21us/sample - loss: 0.0571 - accuracy: 0.6407 - val_loss: 0.0552 - val_accuracy: 0.6643\n",
            "Epoch 15/200\n",
            "60000/60000 [==============================] - 1s 21us/sample - loss: 0.0543 - accuracy: 0.6739 - val_loss: 0.0523 - val_accuracy: 0.6959\n",
            "Epoch 16/200\n",
            "60000/60000 [==============================] - 1s 21us/sample - loss: 0.0515 - accuracy: 0.7006 - val_loss: 0.0496 - val_accuracy: 0.7205\n",
            "Epoch 17/200\n",
            "60000/60000 [==============================] - 1s 21us/sample - loss: 0.0490 - accuracy: 0.7222 - val_loss: 0.0470 - val_accuracy: 0.7412\n",
            "Epoch 18/200\n",
            "60000/60000 [==============================] - 1s 21us/sample - loss: 0.0466 - accuracy: 0.7398 - val_loss: 0.0447 - val_accuracy: 0.7589\n",
            "Epoch 19/200\n",
            "60000/60000 [==============================] - 1s 21us/sample - loss: 0.0445 - accuracy: 0.7533 - val_loss: 0.0426 - val_accuracy: 0.7705\n",
            "Epoch 20/200\n",
            "60000/60000 [==============================] - 1s 21us/sample - loss: 0.0425 - accuracy: 0.7660 - val_loss: 0.0406 - val_accuracy: 0.7850\n",
            "Epoch 21/200\n",
            "60000/60000 [==============================] - 1s 21us/sample - loss: 0.0407 - accuracy: 0.7779 - val_loss: 0.0388 - val_accuracy: 0.7980\n",
            "Epoch 22/200\n",
            "60000/60000 [==============================] - 1s 21us/sample - loss: 0.0390 - accuracy: 0.7890 - val_loss: 0.0372 - val_accuracy: 0.8107\n",
            "Epoch 23/200\n",
            "60000/60000 [==============================] - 1s 21us/sample - loss: 0.0375 - accuracy: 0.8002 - val_loss: 0.0357 - val_accuracy: 0.8212\n",
            "Epoch 24/200\n",
            "60000/60000 [==============================] - 1s 20us/sample - loss: 0.0361 - accuracy: 0.8095 - val_loss: 0.0344 - val_accuracy: 0.8302\n",
            "Epoch 25/200\n",
            "60000/60000 [==============================] - 1s 21us/sample - loss: 0.0349 - accuracy: 0.8164 - val_loss: 0.0331 - val_accuracy: 0.8364\n",
            "Epoch 26/200\n",
            "60000/60000 [==============================] - 1s 22us/sample - loss: 0.0337 - accuracy: 0.8234 - val_loss: 0.0320 - val_accuracy: 0.8430\n",
            "Epoch 27/200\n",
            "60000/60000 [==============================] - 1s 22us/sample - loss: 0.0326 - accuracy: 0.8277 - val_loss: 0.0310 - val_accuracy: 0.8458\n",
            "Epoch 28/200\n",
            "60000/60000 [==============================] - 1s 21us/sample - loss: 0.0317 - accuracy: 0.8326 - val_loss: 0.0300 - val_accuracy: 0.8499\n",
            "Epoch 29/200\n",
            "60000/60000 [==============================] - 1s 21us/sample - loss: 0.0308 - accuracy: 0.8364 - val_loss: 0.0291 - val_accuracy: 0.8526\n",
            "Epoch 30/200\n",
            "60000/60000 [==============================] - 1s 21us/sample - loss: 0.0299 - accuracy: 0.8400 - val_loss: 0.0284 - val_accuracy: 0.8553\n",
            "Epoch 31/200\n",
            "60000/60000 [==============================] - 1s 21us/sample - loss: 0.0292 - accuracy: 0.8431 - val_loss: 0.0276 - val_accuracy: 0.8584\n",
            "Epoch 32/200\n",
            "60000/60000 [==============================] - 1s 22us/sample - loss: 0.0285 - accuracy: 0.8464 - val_loss: 0.0270 - val_accuracy: 0.8614\n",
            "Epoch 33/200\n",
            "60000/60000 [==============================] - 1s 22us/sample - loss: 0.0278 - accuracy: 0.8491 - val_loss: 0.0263 - val_accuracy: 0.8634\n",
            "Epoch 34/200\n",
            "60000/60000 [==============================] - 1s 21us/sample - loss: 0.0272 - accuracy: 0.8518 - val_loss: 0.0258 - val_accuracy: 0.8649\n",
            "Epoch 35/200\n",
            "60000/60000 [==============================] - 1s 22us/sample - loss: 0.0267 - accuracy: 0.8543 - val_loss: 0.0252 - val_accuracy: 0.8669\n",
            "Epoch 36/200\n",
            "60000/60000 [==============================] - 1s 21us/sample - loss: 0.0262 - accuracy: 0.8563 - val_loss: 0.0247 - val_accuracy: 0.8681\n",
            "Epoch 37/200\n",
            "60000/60000 [==============================] - 1s 21us/sample - loss: 0.0257 - accuracy: 0.8584 - val_loss: 0.0243 - val_accuracy: 0.8699\n",
            "Epoch 38/200\n",
            "60000/60000 [==============================] - 1s 22us/sample - loss: 0.0252 - accuracy: 0.8602 - val_loss: 0.0238 - val_accuracy: 0.8715\n",
            "Epoch 39/200\n",
            "60000/60000 [==============================] - 1s 22us/sample - loss: 0.0248 - accuracy: 0.8619 - val_loss: 0.0234 - val_accuracy: 0.8726\n",
            "Epoch 40/200\n",
            "60000/60000 [==============================] - 1s 22us/sample - loss: 0.0244 - accuracy: 0.8640 - val_loss: 0.0231 - val_accuracy: 0.8733\n",
            "Epoch 41/200\n",
            "60000/60000 [==============================] - 1s 22us/sample - loss: 0.0240 - accuracy: 0.8653 - val_loss: 0.0227 - val_accuracy: 0.8760\n",
            "Epoch 42/200\n",
            "60000/60000 [==============================] - 1s 22us/sample - loss: 0.0237 - accuracy: 0.8668 - val_loss: 0.0224 - val_accuracy: 0.8772\n",
            "Epoch 43/200\n",
            "60000/60000 [==============================] - 1s 22us/sample - loss: 0.0234 - accuracy: 0.8680 - val_loss: 0.0221 - val_accuracy: 0.8788\n",
            "Epoch 44/200\n",
            "60000/60000 [==============================] - 1s 22us/sample - loss: 0.0230 - accuracy: 0.8691 - val_loss: 0.0218 - val_accuracy: 0.8804\n",
            "Epoch 45/200\n",
            "60000/60000 [==============================] - 1s 22us/sample - loss: 0.0228 - accuracy: 0.8705 - val_loss: 0.0215 - val_accuracy: 0.8814\n",
            "Epoch 46/200\n",
            "60000/60000 [==============================] - 1s 21us/sample - loss: 0.0225 - accuracy: 0.8715 - val_loss: 0.0212 - val_accuracy: 0.8827\n",
            "Epoch 47/200\n",
            "60000/60000 [==============================] - 1s 21us/sample - loss: 0.0222 - accuracy: 0.8727 - val_loss: 0.0210 - val_accuracy: 0.8831\n",
            "Epoch 48/200\n",
            "60000/60000 [==============================] - 1s 21us/sample - loss: 0.0220 - accuracy: 0.8743 - val_loss: 0.0207 - val_accuracy: 0.8846\n",
            "Epoch 49/200\n",
            "60000/60000 [==============================] - 1s 22us/sample - loss: 0.0217 - accuracy: 0.8751 - val_loss: 0.0205 - val_accuracy: 0.8855\n",
            "Epoch 50/200\n",
            "60000/60000 [==============================] - 1s 22us/sample - loss: 0.0215 - accuracy: 0.8760 - val_loss: 0.0203 - val_accuracy: 0.8865\n",
            "Epoch 51/200\n",
            "60000/60000 [==============================] - 1s 21us/sample - loss: 0.0213 - accuracy: 0.8772 - val_loss: 0.0201 - val_accuracy: 0.8873\n",
            "Epoch 52/200\n",
            "60000/60000 [==============================] - 1s 21us/sample - loss: 0.0211 - accuracy: 0.8778 - val_loss: 0.0199 - val_accuracy: 0.8878\n",
            "Epoch 53/200\n",
            "60000/60000 [==============================] - 1s 22us/sample - loss: 0.0209 - accuracy: 0.8789 - val_loss: 0.0197 - val_accuracy: 0.8885\n",
            "Epoch 54/200\n",
            "60000/60000 [==============================] - 1s 21us/sample - loss: 0.0207 - accuracy: 0.8798 - val_loss: 0.0195 - val_accuracy: 0.8893\n",
            "Epoch 55/200\n",
            "60000/60000 [==============================] - 1s 21us/sample - loss: 0.0205 - accuracy: 0.8804 - val_loss: 0.0193 - val_accuracy: 0.8899\n",
            "Epoch 56/200\n",
            "60000/60000 [==============================] - 1s 21us/sample - loss: 0.0203 - accuracy: 0.8813 - val_loss: 0.0192 - val_accuracy: 0.8904\n",
            "Epoch 57/200\n",
            "60000/60000 [==============================] - 1s 21us/sample - loss: 0.0201 - accuracy: 0.8819 - val_loss: 0.0190 - val_accuracy: 0.8914\n",
            "Epoch 58/200\n",
            "60000/60000 [==============================] - 1s 21us/sample - loss: 0.0200 - accuracy: 0.8827 - val_loss: 0.0189 - val_accuracy: 0.8920\n",
            "Epoch 59/200\n",
            "60000/60000 [==============================] - 1s 21us/sample - loss: 0.0198 - accuracy: 0.8832 - val_loss: 0.0187 - val_accuracy: 0.8923\n",
            "Epoch 60/200\n",
            "60000/60000 [==============================] - 1s 21us/sample - loss: 0.0197 - accuracy: 0.8839 - val_loss: 0.0186 - val_accuracy: 0.8929\n",
            "Epoch 61/200\n",
            "60000/60000 [==============================] - 1s 23us/sample - loss: 0.0195 - accuracy: 0.8845 - val_loss: 0.0184 - val_accuracy: 0.8936\n",
            "Epoch 62/200\n",
            "60000/60000 [==============================] - 1s 21us/sample - loss: 0.0194 - accuracy: 0.8850 - val_loss: 0.0183 - val_accuracy: 0.8943\n",
            "Epoch 63/200\n",
            "60000/60000 [==============================] - 1s 21us/sample - loss: 0.0192 - accuracy: 0.8858 - val_loss: 0.0182 - val_accuracy: 0.8947\n",
            "Epoch 64/200\n",
            "60000/60000 [==============================] - 1s 21us/sample - loss: 0.0191 - accuracy: 0.8868 - val_loss: 0.0180 - val_accuracy: 0.8963\n",
            "Epoch 65/200\n",
            "60000/60000 [==============================] - 1s 21us/sample - loss: 0.0190 - accuracy: 0.8874 - val_loss: 0.0179 - val_accuracy: 0.8967\n",
            "Epoch 66/200\n",
            "60000/60000 [==============================] - 1s 21us/sample - loss: 0.0189 - accuracy: 0.8879 - val_loss: 0.0178 - val_accuracy: 0.8972\n",
            "Epoch 67/200\n",
            "60000/60000 [==============================] - 1s 22us/sample - loss: 0.0187 - accuracy: 0.8888 - val_loss: 0.0177 - val_accuracy: 0.8977\n",
            "Epoch 68/200\n",
            "60000/60000 [==============================] - 1s 21us/sample - loss: 0.0186 - accuracy: 0.8889 - val_loss: 0.0176 - val_accuracy: 0.8979\n",
            "Epoch 69/200\n",
            "60000/60000 [==============================] - 1s 21us/sample - loss: 0.0185 - accuracy: 0.8895 - val_loss: 0.0175 - val_accuracy: 0.8981\n",
            "Epoch 70/200\n",
            "60000/60000 [==============================] - 1s 21us/sample - loss: 0.0184 - accuracy: 0.8902 - val_loss: 0.0174 - val_accuracy: 0.8987\n",
            "Epoch 71/200\n",
            "60000/60000 [==============================] - 1s 20us/sample - loss: 0.0183 - accuracy: 0.8904 - val_loss: 0.0173 - val_accuracy: 0.8991\n",
            "Epoch 72/200\n",
            "60000/60000 [==============================] - 1s 21us/sample - loss: 0.0182 - accuracy: 0.8912 - val_loss: 0.0172 - val_accuracy: 0.8990\n",
            "Epoch 73/200\n",
            "60000/60000 [==============================] - 1s 21us/sample - loss: 0.0181 - accuracy: 0.8915 - val_loss: 0.0171 - val_accuracy: 0.8992\n",
            "Epoch 74/200\n",
            "60000/60000 [==============================] - 1s 22us/sample - loss: 0.0180 - accuracy: 0.8919 - val_loss: 0.0170 - val_accuracy: 0.8992\n",
            "Epoch 75/200\n",
            "60000/60000 [==============================] - 1s 21us/sample - loss: 0.0179 - accuracy: 0.8922 - val_loss: 0.0169 - val_accuracy: 0.8994\n",
            "Epoch 76/200\n",
            "60000/60000 [==============================] - 1s 21us/sample - loss: 0.0178 - accuracy: 0.8926 - val_loss: 0.0168 - val_accuracy: 0.9000\n",
            "Epoch 77/200\n",
            "60000/60000 [==============================] - 1s 21us/sample - loss: 0.0177 - accuracy: 0.8930 - val_loss: 0.0167 - val_accuracy: 0.9004\n",
            "Epoch 78/200\n",
            "60000/60000 [==============================] - 1s 22us/sample - loss: 0.0176 - accuracy: 0.8933 - val_loss: 0.0167 - val_accuracy: 0.9007\n",
            "Epoch 79/200\n",
            "60000/60000 [==============================] - 1s 22us/sample - loss: 0.0176 - accuracy: 0.8936 - val_loss: 0.0166 - val_accuracy: 0.9011\n",
            "Epoch 80/200\n",
            "60000/60000 [==============================] - 1s 21us/sample - loss: 0.0175 - accuracy: 0.8942 - val_loss: 0.0165 - val_accuracy: 0.9016\n",
            "Epoch 81/200\n",
            "60000/60000 [==============================] - 1s 22us/sample - loss: 0.0174 - accuracy: 0.8945 - val_loss: 0.0164 - val_accuracy: 0.9020\n",
            "Epoch 82/200\n",
            "60000/60000 [==============================] - 1s 21us/sample - loss: 0.0173 - accuracy: 0.8949 - val_loss: 0.0164 - val_accuracy: 0.9020\n",
            "Epoch 83/200\n",
            "60000/60000 [==============================] - 1s 21us/sample - loss: 0.0172 - accuracy: 0.8952 - val_loss: 0.0163 - val_accuracy: 0.9021\n",
            "Epoch 84/200\n",
            "60000/60000 [==============================] - 1s 21us/sample - loss: 0.0172 - accuracy: 0.8953 - val_loss: 0.0162 - val_accuracy: 0.9024\n",
            "Epoch 85/200\n",
            "60000/60000 [==============================] - 1s 22us/sample - loss: 0.0171 - accuracy: 0.8958 - val_loss: 0.0162 - val_accuracy: 0.9026\n",
            "Epoch 86/200\n",
            "60000/60000 [==============================] - 1s 22us/sample - loss: 0.0170 - accuracy: 0.8961 - val_loss: 0.0161 - val_accuracy: 0.9032\n",
            "Epoch 87/200\n",
            "60000/60000 [==============================] - 1s 21us/sample - loss: 0.0169 - accuracy: 0.8966 - val_loss: 0.0160 - val_accuracy: 0.9033\n",
            "Epoch 88/200\n",
            "60000/60000 [==============================] - 1s 21us/sample - loss: 0.0169 - accuracy: 0.8969 - val_loss: 0.0160 - val_accuracy: 0.9037\n",
            "Epoch 89/200\n",
            "60000/60000 [==============================] - 1s 21us/sample - loss: 0.0168 - accuracy: 0.8972 - val_loss: 0.0159 - val_accuracy: 0.9039\n",
            "Epoch 90/200\n",
            "60000/60000 [==============================] - 1s 22us/sample - loss: 0.0167 - accuracy: 0.8975 - val_loss: 0.0158 - val_accuracy: 0.9040\n",
            "Epoch 91/200\n",
            "60000/60000 [==============================] - 1s 22us/sample - loss: 0.0167 - accuracy: 0.8978 - val_loss: 0.0158 - val_accuracy: 0.9039\n",
            "Epoch 92/200\n",
            "60000/60000 [==============================] - 1s 21us/sample - loss: 0.0166 - accuracy: 0.8982 - val_loss: 0.0157 - val_accuracy: 0.9045\n",
            "Epoch 93/200\n",
            "60000/60000 [==============================] - 1s 21us/sample - loss: 0.0166 - accuracy: 0.8984 - val_loss: 0.0157 - val_accuracy: 0.9049\n",
            "Epoch 94/200\n",
            "60000/60000 [==============================] - 1s 22us/sample - loss: 0.0165 - accuracy: 0.8986 - val_loss: 0.0156 - val_accuracy: 0.9048\n",
            "Epoch 95/200\n",
            "60000/60000 [==============================] - 1s 22us/sample - loss: 0.0164 - accuracy: 0.8989 - val_loss: 0.0156 - val_accuracy: 0.9054\n",
            "Epoch 96/200\n",
            "60000/60000 [==============================] - 1s 22us/sample - loss: 0.0164 - accuracy: 0.8994 - val_loss: 0.0155 - val_accuracy: 0.9051\n",
            "Epoch 97/200\n",
            "60000/60000 [==============================] - 1s 21us/sample - loss: 0.0163 - accuracy: 0.8996 - val_loss: 0.0154 - val_accuracy: 0.9059\n",
            "Epoch 98/200\n",
            "60000/60000 [==============================] - 1s 21us/sample - loss: 0.0163 - accuracy: 0.9000 - val_loss: 0.0154 - val_accuracy: 0.9063\n",
            "Epoch 99/200\n",
            "60000/60000 [==============================] - 1s 21us/sample - loss: 0.0162 - accuracy: 0.9002 - val_loss: 0.0153 - val_accuracy: 0.9061\n",
            "Epoch 100/200\n",
            "60000/60000 [==============================] - 1s 21us/sample - loss: 0.0161 - accuracy: 0.9007 - val_loss: 0.0153 - val_accuracy: 0.9067\n",
            "Epoch 101/200\n",
            "60000/60000 [==============================] - 1s 22us/sample - loss: 0.0161 - accuracy: 0.9008 - val_loss: 0.0152 - val_accuracy: 0.9065\n",
            "Epoch 102/200\n",
            "60000/60000 [==============================] - 1s 22us/sample - loss: 0.0160 - accuracy: 0.9009 - val_loss: 0.0152 - val_accuracy: 0.9062\n",
            "Epoch 103/200\n",
            "60000/60000 [==============================] - 1s 21us/sample - loss: 0.0160 - accuracy: 0.9013 - val_loss: 0.0152 - val_accuracy: 0.9070\n",
            "Epoch 104/200\n",
            "60000/60000 [==============================] - 1s 22us/sample - loss: 0.0159 - accuracy: 0.9016 - val_loss: 0.0151 - val_accuracy: 0.9068\n",
            "Epoch 105/200\n",
            "60000/60000 [==============================] - 1s 21us/sample - loss: 0.0159 - accuracy: 0.9018 - val_loss: 0.0151 - val_accuracy: 0.9069\n",
            "Epoch 106/200\n",
            "60000/60000 [==============================] - 1s 22us/sample - loss: 0.0158 - accuracy: 0.9020 - val_loss: 0.0150 - val_accuracy: 0.9072\n",
            "Epoch 107/200\n",
            "60000/60000 [==============================] - 1s 21us/sample - loss: 0.0158 - accuracy: 0.9024 - val_loss: 0.0150 - val_accuracy: 0.9078\n",
            "Epoch 108/200\n",
            "60000/60000 [==============================] - 1s 21us/sample - loss: 0.0158 - accuracy: 0.9026 - val_loss: 0.0149 - val_accuracy: 0.9080\n",
            "Epoch 109/200\n",
            "60000/60000 [==============================] - 1s 21us/sample - loss: 0.0157 - accuracy: 0.9030 - val_loss: 0.0149 - val_accuracy: 0.9081\n",
            "Epoch 110/200\n",
            "60000/60000 [==============================] - 1s 22us/sample - loss: 0.0157 - accuracy: 0.9030 - val_loss: 0.0148 - val_accuracy: 0.9085\n",
            "Epoch 111/200\n",
            "60000/60000 [==============================] - 1s 22us/sample - loss: 0.0156 - accuracy: 0.9035 - val_loss: 0.0148 - val_accuracy: 0.9087\n",
            "Epoch 112/200\n",
            "60000/60000 [==============================] - 1s 21us/sample - loss: 0.0156 - accuracy: 0.9037 - val_loss: 0.0148 - val_accuracy: 0.9087\n",
            "Epoch 113/200\n",
            "60000/60000 [==============================] - 1s 21us/sample - loss: 0.0155 - accuracy: 0.9039 - val_loss: 0.0147 - val_accuracy: 0.9088\n",
            "Epoch 114/200\n",
            "60000/60000 [==============================] - 1s 22us/sample - loss: 0.0155 - accuracy: 0.9043 - val_loss: 0.0147 - val_accuracy: 0.9092\n",
            "Epoch 115/200\n",
            "60000/60000 [==============================] - 1s 22us/sample - loss: 0.0154 - accuracy: 0.9045 - val_loss: 0.0146 - val_accuracy: 0.9093\n",
            "Epoch 116/200\n",
            "60000/60000 [==============================] - 1s 22us/sample - loss: 0.0154 - accuracy: 0.9050 - val_loss: 0.0146 - val_accuracy: 0.9094\n",
            "Epoch 117/200\n",
            "60000/60000 [==============================] - 1s 21us/sample - loss: 0.0154 - accuracy: 0.9051 - val_loss: 0.0146 - val_accuracy: 0.9095\n",
            "Epoch 118/200\n",
            "60000/60000 [==============================] - 1s 21us/sample - loss: 0.0153 - accuracy: 0.9053 - val_loss: 0.0145 - val_accuracy: 0.9097\n",
            "Epoch 119/200\n",
            "60000/60000 [==============================] - 1s 22us/sample - loss: 0.0153 - accuracy: 0.9056 - val_loss: 0.0145 - val_accuracy: 0.9100\n",
            "Epoch 120/200\n",
            "60000/60000 [==============================] - 1s 22us/sample - loss: 0.0152 - accuracy: 0.9059 - val_loss: 0.0145 - val_accuracy: 0.9099\n",
            "Epoch 121/200\n",
            "60000/60000 [==============================] - 1s 22us/sample - loss: 0.0152 - accuracy: 0.9061 - val_loss: 0.0144 - val_accuracy: 0.9101\n",
            "Epoch 122/200\n",
            "60000/60000 [==============================] - 1s 21us/sample - loss: 0.0152 - accuracy: 0.9061 - val_loss: 0.0144 - val_accuracy: 0.9103\n",
            "Epoch 123/200\n",
            "60000/60000 [==============================] - 1s 22us/sample - loss: 0.0151 - accuracy: 0.9064 - val_loss: 0.0144 - val_accuracy: 0.9106\n",
            "Epoch 124/200\n",
            "60000/60000 [==============================] - 1s 21us/sample - loss: 0.0151 - accuracy: 0.9067 - val_loss: 0.0143 - val_accuracy: 0.9109\n",
            "Epoch 125/200\n",
            "60000/60000 [==============================] - 1s 21us/sample - loss: 0.0151 - accuracy: 0.9068 - val_loss: 0.0143 - val_accuracy: 0.9108\n",
            "Epoch 126/200\n",
            "60000/60000 [==============================] - 1s 22us/sample - loss: 0.0150 - accuracy: 0.9069 - val_loss: 0.0143 - val_accuracy: 0.9112\n",
            "Epoch 127/200\n",
            "60000/60000 [==============================] - 1s 22us/sample - loss: 0.0150 - accuracy: 0.9072 - val_loss: 0.0142 - val_accuracy: 0.9113\n",
            "Epoch 128/200\n",
            "60000/60000 [==============================] - 1s 22us/sample - loss: 0.0149 - accuracy: 0.9074 - val_loss: 0.0142 - val_accuracy: 0.9114\n",
            "Epoch 129/200\n",
            "60000/60000 [==============================] - 1s 22us/sample - loss: 0.0149 - accuracy: 0.9075 - val_loss: 0.0142 - val_accuracy: 0.9120\n",
            "Epoch 130/200\n",
            "60000/60000 [==============================] - 1s 22us/sample - loss: 0.0149 - accuracy: 0.9077 - val_loss: 0.0141 - val_accuracy: 0.9124\n",
            "Epoch 131/200\n",
            "60000/60000 [==============================] - 1s 22us/sample - loss: 0.0148 - accuracy: 0.9080 - val_loss: 0.0141 - val_accuracy: 0.9123\n",
            "Epoch 132/200\n",
            "60000/60000 [==============================] - 1s 21us/sample - loss: 0.0148 - accuracy: 0.9081 - val_loss: 0.0141 - val_accuracy: 0.9121\n",
            "Epoch 133/200\n",
            "60000/60000 [==============================] - 1s 21us/sample - loss: 0.0148 - accuracy: 0.9080 - val_loss: 0.0141 - val_accuracy: 0.9123\n",
            "Epoch 134/200\n",
            "60000/60000 [==============================] - 1s 22us/sample - loss: 0.0147 - accuracy: 0.9083 - val_loss: 0.0140 - val_accuracy: 0.9127\n",
            "Epoch 135/200\n",
            "60000/60000 [==============================] - 1s 22us/sample - loss: 0.0147 - accuracy: 0.9085 - val_loss: 0.0140 - val_accuracy: 0.9127\n",
            "Epoch 136/200\n",
            "60000/60000 [==============================] - 1s 22us/sample - loss: 0.0147 - accuracy: 0.9085 - val_loss: 0.0140 - val_accuracy: 0.9129\n",
            "Epoch 137/200\n",
            "60000/60000 [==============================] - 1s 22us/sample - loss: 0.0146 - accuracy: 0.9089 - val_loss: 0.0139 - val_accuracy: 0.9131\n",
            "Epoch 138/200\n",
            "60000/60000 [==============================] - 1s 22us/sample - loss: 0.0146 - accuracy: 0.9090 - val_loss: 0.0139 - val_accuracy: 0.9138\n",
            "Epoch 139/200\n",
            "60000/60000 [==============================] - 1s 21us/sample - loss: 0.0146 - accuracy: 0.9091 - val_loss: 0.0139 - val_accuracy: 0.9137\n",
            "Epoch 140/200\n",
            "60000/60000 [==============================] - 1s 21us/sample - loss: 0.0146 - accuracy: 0.9094 - val_loss: 0.0139 - val_accuracy: 0.9140\n",
            "Epoch 141/200\n",
            "60000/60000 [==============================] - 1s 22us/sample - loss: 0.0145 - accuracy: 0.9096 - val_loss: 0.0138 - val_accuracy: 0.9143\n",
            "Epoch 142/200\n",
            "60000/60000 [==============================] - 1s 23us/sample - loss: 0.0145 - accuracy: 0.9098 - val_loss: 0.0138 - val_accuracy: 0.9145\n",
            "Epoch 143/200\n",
            "60000/60000 [==============================] - 1s 22us/sample - loss: 0.0145 - accuracy: 0.9101 - val_loss: 0.0138 - val_accuracy: 0.9150\n",
            "Epoch 144/200\n",
            "60000/60000 [==============================] - 1s 21us/sample - loss: 0.0144 - accuracy: 0.9102 - val_loss: 0.0137 - val_accuracy: 0.9148\n",
            "Epoch 145/200\n",
            "60000/60000 [==============================] - 1s 22us/sample - loss: 0.0144 - accuracy: 0.9105 - val_loss: 0.0137 - val_accuracy: 0.9147\n",
            "Epoch 146/200\n",
            "60000/60000 [==============================] - 1s 22us/sample - loss: 0.0144 - accuracy: 0.9106 - val_loss: 0.0137 - val_accuracy: 0.9155\n",
            "Epoch 147/200\n",
            "60000/60000 [==============================] - 1s 22us/sample - loss: 0.0143 - accuracy: 0.9107 - val_loss: 0.0137 - val_accuracy: 0.9154\n",
            "Epoch 148/200\n",
            "60000/60000 [==============================] - 1s 21us/sample - loss: 0.0143 - accuracy: 0.9108 - val_loss: 0.0136 - val_accuracy: 0.9152\n",
            "Epoch 149/200\n",
            "60000/60000 [==============================] - 1s 21us/sample - loss: 0.0143 - accuracy: 0.9112 - val_loss: 0.0136 - val_accuracy: 0.9155\n",
            "Epoch 150/200\n",
            "60000/60000 [==============================] - 1s 22us/sample - loss: 0.0143 - accuracy: 0.9112 - val_loss: 0.0136 - val_accuracy: 0.9156\n",
            "Epoch 151/200\n",
            "60000/60000 [==============================] - 1s 22us/sample - loss: 0.0142 - accuracy: 0.9115 - val_loss: 0.0136 - val_accuracy: 0.9159\n",
            "Epoch 152/200\n",
            "60000/60000 [==============================] - 1s 22us/sample - loss: 0.0142 - accuracy: 0.9117 - val_loss: 0.0135 - val_accuracy: 0.9162\n",
            "Epoch 153/200\n",
            "60000/60000 [==============================] - 1s 22us/sample - loss: 0.0142 - accuracy: 0.9117 - val_loss: 0.0135 - val_accuracy: 0.9164\n",
            "Epoch 154/200\n",
            "60000/60000 [==============================] - 1s 21us/sample - loss: 0.0142 - accuracy: 0.9119 - val_loss: 0.0135 - val_accuracy: 0.9163\n",
            "Epoch 155/200\n",
            "60000/60000 [==============================] - 1s 21us/sample - loss: 0.0141 - accuracy: 0.9120 - val_loss: 0.0135 - val_accuracy: 0.9167\n",
            "Epoch 156/200\n",
            "60000/60000 [==============================] - 1s 22us/sample - loss: 0.0141 - accuracy: 0.9122 - val_loss: 0.0135 - val_accuracy: 0.9166\n",
            "Epoch 157/200\n",
            "60000/60000 [==============================] - 1s 21us/sample - loss: 0.0141 - accuracy: 0.9123 - val_loss: 0.0134 - val_accuracy: 0.9166\n",
            "Epoch 158/200\n",
            "60000/60000 [==============================] - 1s 22us/sample - loss: 0.0141 - accuracy: 0.9127 - val_loss: 0.0134 - val_accuracy: 0.9171\n",
            "Epoch 159/200\n",
            "60000/60000 [==============================] - 1s 21us/sample - loss: 0.0140 - accuracy: 0.9128 - val_loss: 0.0134 - val_accuracy: 0.9168\n",
            "Epoch 160/200\n",
            "60000/60000 [==============================] - 1s 22us/sample - loss: 0.0140 - accuracy: 0.9129 - val_loss: 0.0134 - val_accuracy: 0.9171\n",
            "Epoch 161/200\n",
            "60000/60000 [==============================] - 1s 21us/sample - loss: 0.0140 - accuracy: 0.9131 - val_loss: 0.0133 - val_accuracy: 0.9174\n",
            "Epoch 162/200\n",
            "60000/60000 [==============================] - 1s 21us/sample - loss: 0.0140 - accuracy: 0.9131 - val_loss: 0.0133 - val_accuracy: 0.9176\n",
            "Epoch 163/200\n",
            "60000/60000 [==============================] - 1s 21us/sample - loss: 0.0139 - accuracy: 0.9133 - val_loss: 0.0133 - val_accuracy: 0.9173\n",
            "Epoch 164/200\n",
            "60000/60000 [==============================] - 1s 21us/sample - loss: 0.0139 - accuracy: 0.9134 - val_loss: 0.0133 - val_accuracy: 0.9175\n",
            "Epoch 165/200\n",
            "60000/60000 [==============================] - 1s 22us/sample - loss: 0.0139 - accuracy: 0.9134 - val_loss: 0.0133 - val_accuracy: 0.9176\n",
            "Epoch 166/200\n",
            "60000/60000 [==============================] - 1s 22us/sample - loss: 0.0139 - accuracy: 0.9135 - val_loss: 0.0132 - val_accuracy: 0.9179\n",
            "Epoch 167/200\n",
            "60000/60000 [==============================] - 1s 22us/sample - loss: 0.0138 - accuracy: 0.9138 - val_loss: 0.0132 - val_accuracy: 0.9181\n",
            "Epoch 168/200\n",
            "60000/60000 [==============================] - 1s 22us/sample - loss: 0.0138 - accuracy: 0.9137 - val_loss: 0.0132 - val_accuracy: 0.9182\n",
            "Epoch 169/200\n",
            "60000/60000 [==============================] - 1s 22us/sample - loss: 0.0138 - accuracy: 0.9139 - val_loss: 0.0132 - val_accuracy: 0.9182\n",
            "Epoch 170/200\n",
            "60000/60000 [==============================] - 1s 21us/sample - loss: 0.0138 - accuracy: 0.9140 - val_loss: 0.0132 - val_accuracy: 0.9184\n",
            "Epoch 171/200\n",
            "60000/60000 [==============================] - 1s 22us/sample - loss: 0.0138 - accuracy: 0.9142 - val_loss: 0.0131 - val_accuracy: 0.9189\n",
            "Epoch 172/200\n",
            "60000/60000 [==============================] - 1s 22us/sample - loss: 0.0137 - accuracy: 0.9142 - val_loss: 0.0131 - val_accuracy: 0.9187\n",
            "Epoch 173/200\n",
            "60000/60000 [==============================] - 1s 22us/sample - loss: 0.0137 - accuracy: 0.9142 - val_loss: 0.0131 - val_accuracy: 0.9190\n",
            "Epoch 174/200\n",
            "60000/60000 [==============================] - 1s 22us/sample - loss: 0.0137 - accuracy: 0.9144 - val_loss: 0.0131 - val_accuracy: 0.9190\n",
            "Epoch 175/200\n",
            "60000/60000 [==============================] - 1s 22us/sample - loss: 0.0137 - accuracy: 0.9145 - val_loss: 0.0131 - val_accuracy: 0.9190\n",
            "Epoch 176/200\n",
            "60000/60000 [==============================] - 1s 22us/sample - loss: 0.0136 - accuracy: 0.9147 - val_loss: 0.0130 - val_accuracy: 0.9191\n",
            "Epoch 177/200\n",
            "60000/60000 [==============================] - 1s 22us/sample - loss: 0.0136 - accuracy: 0.9148 - val_loss: 0.0130 - val_accuracy: 0.9193\n",
            "Epoch 178/200\n",
            "60000/60000 [==============================] - 1s 22us/sample - loss: 0.0136 - accuracy: 0.9147 - val_loss: 0.0130 - val_accuracy: 0.9195\n",
            "Epoch 179/200\n",
            "60000/60000 [==============================] - 1s 21us/sample - loss: 0.0136 - accuracy: 0.9148 - val_loss: 0.0130 - val_accuracy: 0.9196\n",
            "Epoch 180/200\n",
            "60000/60000 [==============================] - 1s 22us/sample - loss: 0.0136 - accuracy: 0.9152 - val_loss: 0.0130 - val_accuracy: 0.9195\n",
            "Epoch 181/200\n",
            "60000/60000 [==============================] - 1s 22us/sample - loss: 0.0135 - accuracy: 0.9152 - val_loss: 0.0130 - val_accuracy: 0.9196\n",
            "Epoch 182/200\n",
            "60000/60000 [==============================] - 1s 22us/sample - loss: 0.0135 - accuracy: 0.9151 - val_loss: 0.0129 - val_accuracy: 0.9199\n",
            "Epoch 183/200\n",
            "60000/60000 [==============================] - 1s 22us/sample - loss: 0.0135 - accuracy: 0.9155 - val_loss: 0.0129 - val_accuracy: 0.9200\n",
            "Epoch 184/200\n",
            "60000/60000 [==============================] - 1s 22us/sample - loss: 0.0135 - accuracy: 0.9154 - val_loss: 0.0129 - val_accuracy: 0.9202\n",
            "Epoch 185/200\n",
            "60000/60000 [==============================] - 1s 21us/sample - loss: 0.0135 - accuracy: 0.9156 - val_loss: 0.0129 - val_accuracy: 0.9201\n",
            "Epoch 186/200\n",
            "60000/60000 [==============================] - 1s 21us/sample - loss: 0.0134 - accuracy: 0.9157 - val_loss: 0.0129 - val_accuracy: 0.9200\n",
            "Epoch 187/200\n",
            "60000/60000 [==============================] - 1s 22us/sample - loss: 0.0134 - accuracy: 0.9159 - val_loss: 0.0128 - val_accuracy: 0.9201\n",
            "Epoch 188/200\n",
            "60000/60000 [==============================] - 1s 22us/sample - loss: 0.0134 - accuracy: 0.9159 - val_loss: 0.0128 - val_accuracy: 0.9202\n",
            "Epoch 189/200\n",
            "60000/60000 [==============================] - 1s 22us/sample - loss: 0.0134 - accuracy: 0.9160 - val_loss: 0.0128 - val_accuracy: 0.9204\n",
            "Epoch 190/200\n",
            "60000/60000 [==============================] - 1s 22us/sample - loss: 0.0134 - accuracy: 0.9162 - val_loss: 0.0128 - val_accuracy: 0.9204\n",
            "Epoch 191/200\n",
            "60000/60000 [==============================] - 1s 21us/sample - loss: 0.0133 - accuracy: 0.9164 - val_loss: 0.0128 - val_accuracy: 0.9203\n",
            "Epoch 192/200\n",
            "60000/60000 [==============================] - 1s 21us/sample - loss: 0.0133 - accuracy: 0.9166 - val_loss: 0.0128 - val_accuracy: 0.9204\n",
            "Epoch 193/200\n",
            "60000/60000 [==============================] - 1s 21us/sample - loss: 0.0133 - accuracy: 0.9166 - val_loss: 0.0127 - val_accuracy: 0.9205\n",
            "Epoch 194/200\n",
            "60000/60000 [==============================] - 1s 21us/sample - loss: 0.0133 - accuracy: 0.9166 - val_loss: 0.0127 - val_accuracy: 0.9207\n",
            "Epoch 195/200\n",
            "60000/60000 [==============================] - 1s 22us/sample - loss: 0.0133 - accuracy: 0.9168 - val_loss: 0.0127 - val_accuracy: 0.9207\n",
            "Epoch 196/200\n",
            "60000/60000 [==============================] - 1s 21us/sample - loss: 0.0132 - accuracy: 0.9169 - val_loss: 0.0127 - val_accuracy: 0.9208\n",
            "Epoch 197/200\n",
            "60000/60000 [==============================] - 1s 22us/sample - loss: 0.0132 - accuracy: 0.9169 - val_loss: 0.0127 - val_accuracy: 0.9210\n",
            "Epoch 198/200\n",
            "60000/60000 [==============================] - 1s 22us/sample - loss: 0.0132 - accuracy: 0.9169 - val_loss: 0.0127 - val_accuracy: 0.9210\n",
            "Epoch 199/200\n",
            "60000/60000 [==============================] - 1s 22us/sample - loss: 0.0132 - accuracy: 0.9172 - val_loss: 0.0126 - val_accuracy: 0.9209\n",
            "Epoch 200/200\n",
            "60000/60000 [==============================] - 1s 22us/sample - loss: 0.0132 - accuracy: 0.9173 - val_loss: 0.0126 - val_accuracy: 0.9211\n"
          ],
          "name": "stdout"
        },
        {
          "output_type": "execute_result",
          "data": {
            "text/plain": [
              "<tensorflow.python.keras.callbacks.History at 0x7f85cd627e80>"
            ]
          },
          "metadata": {
            "tags": []
          },
          "execution_count": 27
        }
      ]
    },
    {
      "cell_type": "markdown",
      "metadata": {
        "id": "h1TumlyjTuFn",
        "colab_type": "text"
      },
      "source": [
        "## Evaluating model performance"
      ]
    },
    {
      "cell_type": "code",
      "metadata": {
        "id": "srrHbiJET0KV",
        "colab_type": "code",
        "outputId": "dc168b3a-2bc6-4cfe-9eb8-697bf159d988",
        "colab": {
          "base_uri": "https://localhost:8080/",
          "height": 71
        }
      },
      "source": [
        "model.evaluate(X_valid, y_valid)"
      ],
      "execution_count": 0,
      "outputs": [
        {
          "output_type": "stream",
          "text": [
            "10000/10000 [==============================] - 0s 35us/sample - loss: 0.0126 - accuracy: 0.9211\n"
          ],
          "name": "stdout"
        },
        {
          "output_type": "execute_result",
          "data": {
            "text/plain": [
              "[0.012629045263398439, 0.9211]"
            ]
          },
          "metadata": {
            "tags": []
          },
          "execution_count": 28
        }
      ]
    },
    {
      "cell_type": "markdown",
      "metadata": {
        "id": "4mSDMTvyT87l",
        "colab_type": "text"
      },
      "source": [
        "Performing inference"
      ]
    },
    {
      "cell_type": "code",
      "metadata": {
        "id": "dMOEJozEUCDc",
        "colab_type": "code",
        "outputId": "d09432d2-416f-4e74-9265-62d8a572c884",
        "colab": {
          "base_uri": "https://localhost:8080/",
          "height": 68
        }
      },
      "source": [
        "valid_0 = X_valid[0]. reshape(1, 784)\n",
        "model.predict(valid_0)"
      ],
      "execution_count": 0,
      "outputs": [
        {
          "output_type": "execute_result",
          "data": {
            "text/plain": [
              "array([[2.74497870e-04, 5.14300041e-07, 1.06241845e-04, 5.72449237e-04,\n",
              "        2.88627180e-05, 2.23619616e-04, 1.39874601e-06, 9.97066200e-01,\n",
              "        1.05148094e-04, 1.62110745e-03]], dtype=float32)"
            ]
          },
          "metadata": {
            "tags": []
          },
          "execution_count": 29
        }
      ]
    },
    {
      "cell_type": "code",
      "metadata": {
        "id": "BYzwrVnsUQmo",
        "colab_type": "code",
        "outputId": "ff5fecc6-5126-4434-c550-60a911cf6b00",
        "colab": {
          "base_uri": "https://localhost:8080/",
          "height": 34
        }
      },
      "source": [
        "model.predict_classes(valid_0)"
      ],
      "execution_count": 0,
      "outputs": [
        {
          "output_type": "execute_result",
          "data": {
            "text/plain": [
              "array([7])"
            ]
          },
          "metadata": {
            "tags": []
          },
          "execution_count": 30
        }
      ]
    },
    {
      "cell_type": "code",
      "metadata": {
        "id": "QjlnXjbwUV3J",
        "colab_type": "code",
        "colab": {}
      },
      "source": [
        ""
      ],
      "execution_count": 0,
      "outputs": []
    }
  ]
}
{
  "nbformat": 4,
  "nbformat_minor": 0,
  "metadata": {
    "colab": {
      "name": "26_3.6_regression_in _tensorflow_Pratice",
      "provenance": [],
      "authorship_tag": "ABX9TyMaioSxSV0AVkWkSvhptNGN"
    },
    "kernelspec": {
      "name": "python3",
      "display_name": "Python 3"
    }
  },
  "cells": [
    {
      "cell_type": "markdown",
      "metadata": {
        "id": "OeLPzn2qvseh",
        "colab_type": "text"
      },
      "source": [
        "# Regression Example in Tensorflow\n",
        "Predicting house prices in Boston, Massachusetts"
      ]
    },
    {
      "cell_type": "markdown",
      "metadata": {
        "id": "fGk2sGqBv_IR",
        "colab_type": "text"
      },
      "source": [
        "# Load correct version of TensorFlow"
      ]
    },
    {
      "cell_type": "code",
      "metadata": {
        "id": "npE4c3qXvi8j",
        "colab_type": "code",
        "colab": {}
      },
      "source": [
        "# Install TensorFlow using Colab's tensorflow_version command\n",
        "try:\n",
        "  # %tensorflow_version only exists in Colab.\n",
        "  %tensorflow_version 2.x\n",
        "except Exception:\n",
        "  pass"
      ],
      "execution_count": 0,
      "outputs": []
    },
    {
      "cell_type": "markdown",
      "metadata": {
        "id": "jHuZ7K6hwHDV",
        "colab_type": "text"
      },
      "source": [
        "# Load dependencies"
      ]
    },
    {
      "cell_type": "code",
      "metadata": {
        "id": "a5MM6lJdwGRn",
        "colab_type": "code",
        "colab": {}
      },
      "source": [
        "import numpy as np\n",
        "from tensorflow.keras.datasets import boston_housing # new\n",
        "from tensorflow.keras.models import Sequential\n",
        "from tensorflow.keras.layers import Dense, Dropout\n",
        "from tensorflow.keras.layers import BatchNormalization\n",
        "from tensorflow.keras.callbacks import ModelCheckpoint # new\n",
        "import os # new"
      ],
      "execution_count": 0,
      "outputs": []
    },
    {
      "cell_type": "markdown",
      "metadata": {
        "id": "_-8__NoBw3PX",
        "colab_type": "text"
      },
      "source": [
        "Load data"
      ]
    },
    {
      "cell_type": "code",
      "metadata": {
        "id": "BOltie_yw530",
        "colab_type": "code",
        "colab": {}
      },
      "source": [
        "(X_train, y_train), (X_valid, y_valid) = boston_housing.load_data()"
      ],
      "execution_count": 0,
      "outputs": []
    },
    {
      "cell_type": "code",
      "metadata": {
        "id": "9ZbE4HAhxeRq",
        "colab_type": "code",
        "outputId": "d1084771-eb4c-4654-bb03-e3f8130b8210",
        "colab": {
          "base_uri": "https://localhost:8080/",
          "height": 34
        }
      },
      "source": [
        "X_train.shape"
      ],
      "execution_count": 0,
      "outputs": [
        {
          "output_type": "execute_result",
          "data": {
            "text/plain": [
              "(404, 13)"
            ]
          },
          "metadata": {
            "tags": []
          },
          "execution_count": 30
        }
      ]
    },
    {
      "cell_type": "code",
      "metadata": {
        "id": "hzOgkkHMxhKr",
        "colab_type": "code",
        "outputId": "1580b107-f120-4506-ed6c-4aa38156b1f3",
        "colab": {
          "base_uri": "https://localhost:8080/",
          "height": 34
        }
      },
      "source": [
        "X_valid.shape"
      ],
      "execution_count": 0,
      "outputs": [
        {
          "output_type": "execute_result",
          "data": {
            "text/plain": [
              "(102, 13)"
            ]
          },
          "metadata": {
            "tags": []
          },
          "execution_count": 31
        }
      ]
    },
    {
      "cell_type": "code",
      "metadata": {
        "id": "BHHZItlQxkBh",
        "colab_type": "code",
        "outputId": "8c917e77-54a4-4aef-9dda-4ae739935790",
        "colab": {
          "base_uri": "https://localhost:8080/",
          "height": 68
        }
      },
      "source": [
        "X_train[0]"
      ],
      "execution_count": 0,
      "outputs": [
        {
          "output_type": "execute_result",
          "data": {
            "text/plain": [
              "array([  1.23247,   0.     ,   8.14   ,   0.     ,   0.538  ,   6.142  ,\n",
              "        91.7    ,   3.9769 ,   4.     , 307.     ,  21.     , 396.9    ,\n",
              "        18.72   ])"
            ]
          },
          "metadata": {
            "tags": []
          },
          "execution_count": 32
        }
      ]
    },
    {
      "cell_type": "code",
      "metadata": {
        "id": "-58YhRZAxmzb",
        "colab_type": "code",
        "outputId": "d52ee08b-223b-4888-fbc3-8c39cf9ed5a7",
        "colab": {
          "base_uri": "https://localhost:8080/",
          "height": 34
        }
      },
      "source": [
        "y_train[0]"
      ],
      "execution_count": 0,
      "outputs": [
        {
          "output_type": "execute_result",
          "data": {
            "text/plain": [
              "15.2"
            ]
          },
          "metadata": {
            "tags": []
          },
          "execution_count": 33
        }
      ]
    },
    {
      "cell_type": "markdown",
      "metadata": {
        "id": "ClsdiQBIzzOu",
        "colab_type": "text"
      },
      "source": [
        "# Design neural network architecture"
      ]
    },
    {
      "cell_type": "code",
      "metadata": {
        "id": "7TjYXI4m0zE_",
        "colab_type": "code",
        "colab": {}
      },
      "source": [
        "model = Sequential()\n",
        "\n",
        "# First hidden layer:\n",
        "model.add(Dense(32, input_dim=13, activation='relu'))\n",
        "model.add(BatchNormalization())\n",
        "\n",
        "# Second hidden layer:\n",
        "model.add(Dense(16, activation='relu'))\n",
        "model.add(BatchNormalization())\n",
        "model.add(Dropout(0.2))\n",
        "\n",
        "# Output layer:\n",
        "model.add(Dense(1, activation='linear'))"
      ],
      "execution_count": 0,
      "outputs": []
    },
    {
      "cell_type": "code",
      "metadata": {
        "id": "HKMSbani01oy",
        "colab_type": "code",
        "outputId": "56030ec5-ba2a-408b-b26c-2a63bd9f1842",
        "colab": {
          "base_uri": "https://localhost:8080/",
          "height": 357
        }
      },
      "source": [
        "model.summary()"
      ],
      "execution_count": 0,
      "outputs": [
        {
          "output_type": "stream",
          "text": [
            "Model: \"sequential_3\"\n",
            "_________________________________________________________________\n",
            "Layer (type)                 Output Shape              Param #   \n",
            "=================================================================\n",
            "dense_6 (Dense)              (None, 32)                448       \n",
            "_________________________________________________________________\n",
            "batch_normalization_3 (Batch (None, 32)                128       \n",
            "_________________________________________________________________\n",
            "dense_7 (Dense)              (None, 16)                528       \n",
            "_________________________________________________________________\n",
            "batch_normalization_4 (Batch (None, 16)                64        \n",
            "_________________________________________________________________\n",
            "dropout_1 (Dropout)          (None, 16)                0         \n",
            "_________________________________________________________________\n",
            "dense_8 (Dense)              (None, 1)                 17        \n",
            "=================================================================\n",
            "Total params: 1,185\n",
            "Trainable params: 1,089\n",
            "Non-trainable params: 96\n",
            "_________________________________________________________________\n"
          ],
          "name": "stdout"
        }
      ]
    },
    {
      "cell_type": "markdown",
      "metadata": {
        "id": "ebFqpUH_06TB",
        "colab_type": "text"
      },
      "source": [
        "# Configure Model"
      ]
    },
    {
      "cell_type": "code",
      "metadata": {
        "id": "Pn-xhq1Q040b",
        "colab_type": "code",
        "colab": {}
      },
      "source": [
        "model.compile(loss='mean_squared_error', optimizer='nadam', )"
      ],
      "execution_count": 0,
      "outputs": []
    },
    {
      "cell_type": "code",
      "metadata": {
        "id": "PvA12_NT4OjL",
        "colab_type": "code",
        "colab": {}
      },
      "source": [
        "output_dir = 'model_output/'"
      ],
      "execution_count": 0,
      "outputs": []
    },
    {
      "cell_type": "code",
      "metadata": {
        "id": "3yICO99R4X8D",
        "colab_type": "code",
        "colab": {}
      },
      "source": [
        "run_name = 'regression_baseline'\n",
        "output_path = output_dir + run_name"
      ],
      "execution_count": 0,
      "outputs": []
    },
    {
      "cell_type": "code",
      "metadata": {
        "id": "zPIaOgbc4l38",
        "colab_type": "code",
        "colab": {}
      },
      "source": [
        "if not os.path.exists(output_path):\n",
        "  os.makedirs(output_path)"
      ],
      "execution_count": 0,
      "outputs": []
    },
    {
      "cell_type": "code",
      "metadata": {
        "id": "EMygvAxk4z70",
        "colab_type": "code",
        "colab": {}
      },
      "source": [
        "modelcheckpoint = ModelCheckpoint(output_path + '/weights.{epoch:02d}.hdf5', # decimal integers\n",
        "                                  save_weights_only=True) "
      ],
      "execution_count": 0,
      "outputs": []
    },
    {
      "cell_type": "markdown",
      "metadata": {
        "id": "vR6fXWrnJILE",
        "colab_type": "text"
      },
      "source": [
        "Train!"
      ]
    },
    {
      "cell_type": "code",
      "metadata": {
        "id": "3i2dv2FJJCee",
        "colab_type": "code",
        "outputId": "86d49424-9d8e-4f9b-e9ea-44568b962505",
        "colab": {
          "base_uri": "https://localhost:8080/",
          "height": 1000
        }
      },
      "source": [
        "model.fit(X_train, y_train, \n",
        "          batch_size=8, epochs=32, verbose=1, \n",
        "          validation_data=(X_valid, y_valid),\n",
        "          callbacks=[modelcheckpoint]) # val loss below 50 is good, 40 great"
      ],
      "execution_count": 0,
      "outputs": [
        {
          "output_type": "stream",
          "text": [
            "Train on 404 samples, validate on 102 samples\n",
            "Epoch 1/32\n",
            "404/404 [==============================] - 0s 376us/sample - loss: 560.0601 - val_loss: 603.2470\n",
            "Epoch 2/32\n",
            "404/404 [==============================] - 0s 384us/sample - loss: 542.4919 - val_loss: 594.8527\n",
            "Epoch 3/32\n",
            "404/404 [==============================] - 0s 338us/sample - loss: 524.5152 - val_loss: 547.4297\n",
            "Epoch 4/32\n",
            "404/404 [==============================] - 0s 406us/sample - loss: 499.9703 - val_loss: 523.5482\n",
            "Epoch 5/32\n",
            "404/404 [==============================] - 0s 360us/sample - loss: 478.7455 - val_loss: 508.6233\n",
            "Epoch 6/32\n",
            "404/404 [==============================] - 0s 363us/sample - loss: 445.6235 - val_loss: 484.2178\n",
            "Epoch 7/32\n",
            "404/404 [==============================] - 0s 327us/sample - loss: 412.6755 - val_loss: 502.7804\n",
            "Epoch 8/32\n",
            "404/404 [==============================] - 0s 329us/sample - loss: 369.9393 - val_loss: 448.7210\n",
            "Epoch 9/32\n",
            "404/404 [==============================] - 0s 376us/sample - loss: 333.1423 - val_loss: 398.8262\n",
            "Epoch 10/32\n",
            "404/404 [==============================] - 0s 334us/sample - loss: 293.2697 - val_loss: 372.1800\n",
            "Epoch 11/32\n",
            "404/404 [==============================] - 0s 348us/sample - loss: 248.7960 - val_loss: 333.8414\n",
            "Epoch 12/32\n",
            "404/404 [==============================] - 0s 351us/sample - loss: 206.8536 - val_loss: 272.0019\n",
            "Epoch 13/32\n",
            "404/404 [==============================] - 0s 382us/sample - loss: 177.4096 - val_loss: 252.7548\n",
            "Epoch 14/32\n",
            "404/404 [==============================] - 0s 356us/sample - loss: 141.0381 - val_loss: 262.4574\n",
            "Epoch 15/32\n",
            "404/404 [==============================] - 0s 373us/sample - loss: 128.0927 - val_loss: 232.2245\n",
            "Epoch 16/32\n",
            "404/404 [==============================] - 0s 335us/sample - loss: 102.5291 - val_loss: 167.3044\n",
            "Epoch 17/32\n",
            "404/404 [==============================] - 0s 342us/sample - loss: 89.5750 - val_loss: 134.6062\n",
            "Epoch 18/32\n",
            "404/404 [==============================] - 0s 380us/sample - loss: 72.9838 - val_loss: 110.1516\n",
            "Epoch 19/32\n",
            "404/404 [==============================] - 0s 336us/sample - loss: 57.2202 - val_loss: 51.7486\n",
            "Epoch 20/32\n",
            "404/404 [==============================] - 0s 337us/sample - loss: 59.6385 - val_loss: 101.2493\n",
            "Epoch 21/32\n",
            "404/404 [==============================] - 0s 369us/sample - loss: 50.2853 - val_loss: 85.5106\n",
            "Epoch 22/32\n",
            "404/404 [==============================] - 0s 340us/sample - loss: 57.1231 - val_loss: 39.1653\n",
            "Epoch 23/32\n",
            "404/404 [==============================] - 0s 333us/sample - loss: 46.8781 - val_loss: 53.2827\n",
            "Epoch 24/32\n",
            "404/404 [==============================] - 0s 314us/sample - loss: 50.7692 - val_loss: 34.4056\n",
            "Epoch 25/32\n",
            "404/404 [==============================] - 0s 382us/sample - loss: 50.8985 - val_loss: 45.5398\n",
            "Epoch 26/32\n",
            "404/404 [==============================] - 0s 332us/sample - loss: 46.7225 - val_loss: 23.2189\n",
            "Epoch 27/32\n",
            "404/404 [==============================] - 0s 332us/sample - loss: 46.1527 - val_loss: 36.7854\n",
            "Epoch 28/32\n",
            "404/404 [==============================] - 0s 327us/sample - loss: 50.5661 - val_loss: 26.6923\n",
            "Epoch 29/32\n",
            "404/404 [==============================] - 0s 346us/sample - loss: 46.4580 - val_loss: 25.3571\n",
            "Epoch 30/32\n",
            "404/404 [==============================] - 0s 334us/sample - loss: 47.1427 - val_loss: 24.3570\n",
            "Epoch 31/32\n",
            "404/404 [==============================] - 0s 334us/sample - loss: 41.1619 - val_loss: 25.1174\n",
            "Epoch 32/32\n",
            "404/404 [==============================] - 0s 355us/sample - loss: 48.4209 - val_loss: 23.5717\n"
          ],
          "name": "stdout"
        },
        {
          "output_type": "execute_result",
          "data": {
            "text/plain": [
              "<tensorflow.python.keras.callbacks.History at 0x7f632cca2780>"
            ]
          },
          "metadata": {
            "tags": []
          },
          "execution_count": 43
        }
      ]
    },
    {
      "cell_type": "markdown",
      "metadata": {
        "id": "vhfTPsr4Jugh",
        "colab_type": "text"
      },
      "source": [
        "# Performing inference\n",
        "\n",
        "\n"
      ]
    },
    {
      "cell_type": "code",
      "metadata": {
        "id": "rVFrMH8rJtgE",
        "colab_type": "code",
        "colab": {}
      },
      "source": [
        "model.load_weights(output_path + '/weights.20.hdf5')"
      ],
      "execution_count": 0,
      "outputs": []
    },
    {
      "cell_type": "code",
      "metadata": {
        "id": "gtuTUTrUNrEB",
        "colab_type": "code",
        "outputId": "d20ee758-3b29-4812-d076-f5c0bd3b4901",
        "colab": {
          "base_uri": "https://localhost:8080/",
          "height": 68
        }
      },
      "source": [
        "X_valid[42]"
      ],
      "execution_count": 0,
      "outputs": [
        {
          "output_type": "execute_result",
          "data": {
            "text/plain": [
              "array([  9.32909,   0.     ,  18.1    ,   0.     ,   0.713  ,   6.185  ,\n",
              "        98.7    ,   2.2616 ,  24.     , 666.     ,  20.2    , 396.9    ,\n",
              "        18.13   ])"
            ]
          },
          "metadata": {
            "tags": []
          },
          "execution_count": 46
        }
      ]
    },
    {
      "cell_type": "code",
      "metadata": {
        "id": "JEmCUyUuNtig",
        "colab_type": "code",
        "outputId": "9a967be4-9a71-4196-cb6d-4884d58f97a8",
        "colab": {
          "base_uri": "https://localhost:8080/",
          "height": 34
        }
      },
      "source": [
        "y_valid[42]"
      ],
      "execution_count": 0,
      "outputs": [
        {
          "output_type": "execute_result",
          "data": {
            "text/plain": [
              "14.1"
            ]
          },
          "metadata": {
            "tags": []
          },
          "execution_count": 47
        }
      ]
    },
    {
      "cell_type": "code",
      "metadata": {
        "id": "qrUJhsnCNyhN",
        "colab_type": "code",
        "outputId": "d487d954-b46b-4d95-c79b-3818f176ed1f",
        "colab": {
          "base_uri": "https://localhost:8080/",
          "height": 34
        }
      },
      "source": [
        "model.predict(np.reshape(X_valid[42], [1, 13]))"
      ],
      "execution_count": 0,
      "outputs": [
        {
          "output_type": "execute_result",
          "data": {
            "text/plain": [
              "array([[9.892089]], dtype=float32)"
            ]
          },
          "metadata": {
            "tags": []
          },
          "execution_count": 48
        }
      ]
    }
  ]
}
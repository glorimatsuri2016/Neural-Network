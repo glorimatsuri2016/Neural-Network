{
  "nbformat": 4,
  "nbformat_minor": 0,
  "metadata": {
    "kernelspec": {
      "display_name": "Python 3",
      "language": "python",
      "name": "python3"
    },
    "language_info": {
      "codemirror_mode": {
        "name": "ipython",
        "version": 3
      },
      "file_extension": ".py",
      "mimetype": "text/x-python",
      "name": "python",
      "nbconvert_exporter": "python",
      "pygments_lexer": "ipython3",
      "version": "3.7.3"
    },
    "colab": {
      "name": "regression_in_tensorflow.ipynb",
      "provenance": []
    }
  },
  "cells": [
    {
      "cell_type": "markdown",
      "metadata": {
        "id": "fdFJa5ZECuCZ",
        "colab_type": "text"
      },
      "source": [
        "# Regression Example in TensorFlow\n",
        "Predicting house prices in Boston, Massachusetts "
      ]
    },
    {
      "cell_type": "markdown",
      "metadata": {
        "id": "U7URe2lQCuCc",
        "colab_type": "text"
      },
      "source": [
        "[![Open In Colab](https://colab.research.google.com/assets/colab-badge.svg)](https://colab.research.google.com/github/jonkrohn/DLTFpT/blob/master/notebooks/regression_in_tensorflow.ipynb)"
      ]
    },
    {
      "cell_type": "markdown",
      "metadata": {
        "id": "rnsU66IbCuCd",
        "colab_type": "text"
      },
      "source": [
        "#### Load dependencies"
      ]
    },
    {
      "cell_type": "code",
      "metadata": {
        "id": "x2KTQ0IpCuCe",
        "colab_type": "code",
        "outputId": "7bb0a533-844e-4d43-be1a-38f0a70c4877",
        "colab": {
          "base_uri": "https://localhost:8080/",
          "height": 81
        }
      },
      "source": [
        "import numpy as np\n",
        "from tensorflow.keras.datasets import boston_housing # new!\n",
        "from tensorflow.keras.models import Sequential\n",
        "from tensorflow.keras.layers import Dense, Dropout \n",
        "from tensorflow.keras.layers import BatchNormalization \n",
        "from tensorflow.keras.callbacks import ModelCheckpoint # new!\n",
        "import os # new!"
      ],
      "execution_count": 0,
      "outputs": [
        {
          "output_type": "display_data",
          "data": {
            "text/html": [
              "<p style=\"color: red;\">\n",
              "The default version of TensorFlow in Colab will soon switch to TensorFlow 2.x.<br>\n",
              "We recommend you <a href=\"https://www.tensorflow.org/guide/migrate\" target=\"_blank\">upgrade</a> now \n",
              "or ensure your notebook will continue to use TensorFlow 1.x via the <code>%tensorflow_version 1.x</code> magic:\n",
              "<a href=\"https://colab.research.google.com/notebooks/tensorflow_version.ipynb\" target=\"_blank\">more info</a>.</p>\n"
            ],
            "text/plain": [
              "<IPython.core.display.HTML object>"
            ]
          },
          "metadata": {
            "tags": []
          }
        }
      ]
    },
    {
      "cell_type": "markdown",
      "metadata": {
        "id": "ZGH3BeukCuCh",
        "colab_type": "text"
      },
      "source": [
        "#### Load data"
      ]
    },
    {
      "cell_type": "code",
      "metadata": {
        "id": "5Q20AGNYCuCi",
        "colab_type": "code",
        "colab": {}
      },
      "source": [
        "(X_train, y_train), (X_valid, y_valid) = boston_housing.load_data()"
      ],
      "execution_count": 0,
      "outputs": []
    },
    {
      "cell_type": "code",
      "metadata": {
        "id": "391BwtD4CuCl",
        "colab_type": "code",
        "outputId": "d8504415-10da-4d60-8228-50ac5748997d",
        "colab": {}
      },
      "source": [
        "X_train.shape"
      ],
      "execution_count": 0,
      "outputs": [
        {
          "output_type": "execute_result",
          "data": {
            "text/plain": [
              "(404, 13)"
            ]
          },
          "metadata": {
            "tags": []
          },
          "execution_count": 3
        }
      ]
    },
    {
      "cell_type": "code",
      "metadata": {
        "id": "nECzKB4OCuCo",
        "colab_type": "code",
        "outputId": "cbe331cf-c84d-41ef-f3b4-f204b69b8ff1",
        "colab": {}
      },
      "source": [
        "X_valid.shape"
      ],
      "execution_count": 0,
      "outputs": [
        {
          "output_type": "execute_result",
          "data": {
            "text/plain": [
              "(102, 13)"
            ]
          },
          "metadata": {
            "tags": []
          },
          "execution_count": 4
        }
      ]
    },
    {
      "cell_type": "code",
      "metadata": {
        "id": "LzpFVxiBCuCr",
        "colab_type": "code",
        "outputId": "ed563f19-6e4f-4123-9622-08cde0bf9ca3",
        "colab": {}
      },
      "source": [
        "X_train[0]"
      ],
      "execution_count": 0,
      "outputs": [
        {
          "output_type": "execute_result",
          "data": {
            "text/plain": [
              "array([  1.23247,   0.     ,   8.14   ,   0.     ,   0.538  ,   6.142  ,\n",
              "        91.7    ,   3.9769 ,   4.     , 307.     ,  21.     , 396.9    ,\n",
              "        18.72   ])"
            ]
          },
          "metadata": {
            "tags": []
          },
          "execution_count": 5
        }
      ]
    },
    {
      "cell_type": "code",
      "metadata": {
        "id": "fFNVjvpdCuCu",
        "colab_type": "code",
        "outputId": "c578bed3-bd01-4d90-f1e9-33287ec92d93",
        "colab": {}
      },
      "source": [
        "y_train[0]"
      ],
      "execution_count": 0,
      "outputs": [
        {
          "output_type": "execute_result",
          "data": {
            "text/plain": [
              "15.2"
            ]
          },
          "metadata": {
            "tags": []
          },
          "execution_count": 6
        }
      ]
    },
    {
      "cell_type": "markdown",
      "metadata": {
        "id": "W_k-7MVYCuCx",
        "colab_type": "text"
      },
      "source": [
        "#### Design neural network architecture"
      ]
    },
    {
      "cell_type": "code",
      "metadata": {
        "id": "WN_hXVt3CuCy",
        "colab_type": "code",
        "colab": {}
      },
      "source": [
        "model = Sequential()\n",
        "\n",
        "model.add(Dense(32, input_dim=13, activation='relu'))\n",
        "model.add(BatchNormalization())\n",
        "\n",
        "model.add(Dense(16, activation='relu'))\n",
        "model.add(BatchNormalization())\n",
        "model.add(Dropout(0.2))\n",
        "\n",
        "model.add(Dense(1, activation='linear'))"
      ],
      "execution_count": 0,
      "outputs": []
    },
    {
      "cell_type": "code",
      "metadata": {
        "id": "CAlmO7nNCuC1",
        "colab_type": "code",
        "outputId": "97566c1a-9fde-49a7-9e50-a8109d0e1b7c",
        "colab": {}
      },
      "source": [
        "model.summary()"
      ],
      "execution_count": 0,
      "outputs": [
        {
          "output_type": "stream",
          "text": [
            "Model: \"sequential\"\n",
            "_________________________________________________________________\n",
            "Layer (type)                 Output Shape              Param #   \n",
            "=================================================================\n",
            "dense (Dense)                (None, 32)                448       \n",
            "_________________________________________________________________\n",
            "batch_normalization (BatchNo (None, 32)                128       \n",
            "_________________________________________________________________\n",
            "dense_1 (Dense)              (None, 16)                528       \n",
            "_________________________________________________________________\n",
            "batch_normalization_1 (Batch (None, 16)                64        \n",
            "_________________________________________________________________\n",
            "dropout (Dropout)            (None, 16)                0         \n",
            "_________________________________________________________________\n",
            "dense_2 (Dense)              (None, 1)                 17        \n",
            "=================================================================\n",
            "Total params: 1,185\n",
            "Trainable params: 1,089\n",
            "Non-trainable params: 96\n",
            "_________________________________________________________________\n"
          ],
          "name": "stdout"
        }
      ]
    },
    {
      "cell_type": "markdown",
      "metadata": {
        "id": "CCLlHBH2CuC4",
        "colab_type": "text"
      },
      "source": [
        "#### Configure Model"
      ]
    },
    {
      "cell_type": "code",
      "metadata": {
        "id": "mhJJ2y8mCuC5",
        "colab_type": "code",
        "colab": {}
      },
      "source": [
        "model.compile(loss='mean_squared_error', optimizer='adam', )"
      ],
      "execution_count": 0,
      "outputs": []
    },
    {
      "cell_type": "code",
      "metadata": {
        "id": "PpRhqwu0CuC7",
        "colab_type": "code",
        "colab": {}
      },
      "source": [
        "output_dir = 'model_output/'"
      ],
      "execution_count": 0,
      "outputs": []
    },
    {
      "cell_type": "code",
      "metadata": {
        "id": "hOzTfeKICuC-",
        "colab_type": "code",
        "colab": {}
      },
      "source": [
        "run_name = 'regression_baseline'\n",
        "output_path = output_dir + run_name"
      ],
      "execution_count": 0,
      "outputs": []
    },
    {
      "cell_type": "code",
      "metadata": {
        "id": "UitJXGzECuDA",
        "colab_type": "code",
        "colab": {}
      },
      "source": [
        "if not os.path.exists(output_path):\n",
        "    os.makedirs(output_path)"
      ],
      "execution_count": 0,
      "outputs": []
    },
    {
      "cell_type": "code",
      "metadata": {
        "id": "E9M90o9wCuDD",
        "colab_type": "code",
        "colab": {}
      },
      "source": [
        "modelcheckpoint = ModelCheckpoint(output_path + '/weights.{epoch:02d}.hdf5', # decimal integers\n",
        "                                  save_weights_only=True) "
      ],
      "execution_count": 0,
      "outputs": []
    },
    {
      "cell_type": "markdown",
      "metadata": {
        "id": "fPr1b0YtCuDG",
        "colab_type": "text"
      },
      "source": [
        "#### Train!"
      ]
    },
    {
      "cell_type": "code",
      "metadata": {
        "id": "Kpk_5lQOCuDH",
        "colab_type": "code",
        "outputId": "f38d5c25-a3e3-4ba4-c520-176158254266",
        "colab": {}
      },
      "source": [
        "model.fit(X_train, y_train, \n",
        "          batch_size=8, epochs=32, verbose=1, \n",
        "          validation_data=(X_valid, y_valid),\n",
        "          callbacks=[modelcheckpoint]) # val loss below 50 is good, 40 great"
      ],
      "execution_count": 0,
      "outputs": [
        {
          "output_type": "stream",
          "text": [
            "Train on 404 samples, validate on 102 samples\n",
            "Epoch 1/32\n",
            "404/404 [==============================] - 1s 1ms/sample - loss: 574.9674 - val_loss: 670.9787\n",
            "Epoch 2/32\n",
            "404/404 [==============================] - 0s 283us/sample - loss: 560.1075 - val_loss: 610.3649\n",
            "Epoch 3/32\n",
            "404/404 [==============================] - 0s 272us/sample - loss: 538.9081 - val_loss: 569.0831\n",
            "Epoch 4/32\n",
            "404/404 [==============================] - 0s 292us/sample - loss: 523.4382 - val_loss: 532.6724\n",
            "Epoch 5/32\n",
            "404/404 [==============================] - 0s 346us/sample - loss: 498.2580 - val_loss: 513.4582\n",
            "Epoch 6/32\n",
            "404/404 [==============================] - 0s 382us/sample - loss: 473.1501 - val_loss: 482.6169\n",
            "Epoch 7/32\n",
            "404/404 [==============================] - 0s 349us/sample - loss: 444.2933 - val_loss: 448.3360\n",
            "Epoch 8/32\n",
            "404/404 [==============================] - 0s 316us/sample - loss: 408.2028 - val_loss: 410.1629\n",
            "Epoch 9/32\n",
            "404/404 [==============================] - 0s 311us/sample - loss: 374.2431 - val_loss: 365.4785\n",
            "Epoch 10/32\n",
            "404/404 [==============================] - 0s 330us/sample - loss: 333.5626 - val_loss: 320.0330\n",
            "Epoch 11/32\n",
            "404/404 [==============================] - 0s 289us/sample - loss: 297.5275 - val_loss: 190.4927\n",
            "Epoch 12/32\n",
            "404/404 [==============================] - 0s 296us/sample - loss: 246.6466 - val_loss: 157.5952\n",
            "Epoch 13/32\n",
            "404/404 [==============================] - 0s 335us/sample - loss: 210.3841 - val_loss: 130.2611\n",
            "Epoch 14/32\n",
            "404/404 [==============================] - 0s 355us/sample - loss: 162.7810 - val_loss: 117.6108\n",
            "Epoch 15/32\n",
            "404/404 [==============================] - 0s 327us/sample - loss: 144.0858 - val_loss: 127.0299\n",
            "Epoch 16/32\n",
            "404/404 [==============================] - 0s 303us/sample - loss: 117.4293 - val_loss: 140.5821\n",
            "Epoch 17/32\n",
            "404/404 [==============================] - 0s 335us/sample - loss: 93.0745 - val_loss: 83.5203\n",
            "Epoch 18/32\n",
            "404/404 [==============================] - 0s 360us/sample - loss: 81.5223 - val_loss: 131.9906\n",
            "Epoch 19/32\n",
            "404/404 [==============================] - 0s 341us/sample - loss: 64.4891 - val_loss: 100.1118\n",
            "Epoch 20/32\n",
            "404/404 [==============================] - 0s 353us/sample - loss: 67.9189 - val_loss: 30.7400\n",
            "Epoch 21/32\n",
            "404/404 [==============================] - 0s 345us/sample - loss: 51.6477 - val_loss: 52.7694\n",
            "Epoch 22/32\n",
            "404/404 [==============================] - 0s 339us/sample - loss: 44.2351 - val_loss: 61.1162\n",
            "Epoch 23/32\n",
            "404/404 [==============================] - 0s 310us/sample - loss: 41.8487 - val_loss: 88.2196\n",
            "Epoch 24/32\n",
            "404/404 [==============================] - 0s 346us/sample - loss: 44.3643 - val_loss: 135.8369\n",
            "Epoch 25/32\n",
            "404/404 [==============================] - 0s 321us/sample - loss: 43.7426 - val_loss: 211.8463\n",
            "Epoch 26/32\n",
            "404/404 [==============================] - 0s 269us/sample - loss: 46.4661 - val_loss: 224.9724\n",
            "Epoch 27/32\n",
            "404/404 [==============================] - 0s 213us/sample - loss: 48.3020 - val_loss: 216.6456\n",
            "Epoch 28/32\n",
            "404/404 [==============================] - 0s 206us/sample - loss: 49.9810 - val_loss: 249.0779\n",
            "Epoch 29/32\n",
            "404/404 [==============================] - 0s 216us/sample - loss: 45.7349 - val_loss: 275.3312\n",
            "Epoch 30/32\n",
            "404/404 [==============================] - 0s 242us/sample - loss: 38.8271 - val_loss: 327.9285\n",
            "Epoch 31/32\n",
            "404/404 [==============================] - 0s 224us/sample - loss: 40.5370 - val_loss: 393.2647\n",
            "Epoch 32/32\n",
            "404/404 [==============================] - 0s 205us/sample - loss: 44.4624 - val_loss: 475.7846\n"
          ],
          "name": "stdout"
        },
        {
          "output_type": "execute_result",
          "data": {
            "text/plain": [
              "<tensorflow.python.keras.callbacks.History at 0x7f0217d09c50>"
            ]
          },
          "metadata": {
            "tags": []
          },
          "execution_count": 14
        }
      ]
    },
    {
      "cell_type": "markdown",
      "metadata": {
        "id": "Zu-mjELxCuDJ",
        "colab_type": "text"
      },
      "source": [
        "#### Performing inference"
      ]
    },
    {
      "cell_type": "code",
      "metadata": {
        "id": "XqzWLkdDCuDK",
        "colab_type": "code",
        "colab": {}
      },
      "source": [
        "model.load_weights(output_path + '/weights.20.hdf5')"
      ],
      "execution_count": 0,
      "outputs": []
    },
    {
      "cell_type": "code",
      "metadata": {
        "id": "eprtsNPqCuDN",
        "colab_type": "code",
        "outputId": "8fbc1619-6908-4f7a-8f68-f670b00865f0",
        "colab": {}
      },
      "source": [
        "X_valid[42]"
      ],
      "execution_count": 0,
      "outputs": [
        {
          "output_type": "execute_result",
          "data": {
            "text/plain": [
              "array([  9.32909,   0.     ,  18.1    ,   0.     ,   0.713  ,   6.185  ,\n",
              "        98.7    ,   2.2616 ,  24.     , 666.     ,  20.2    , 396.9    ,\n",
              "        18.13   ])"
            ]
          },
          "metadata": {
            "tags": []
          },
          "execution_count": 17
        }
      ]
    },
    {
      "cell_type": "code",
      "metadata": {
        "id": "iToRrJy_CuDP",
        "colab_type": "code",
        "outputId": "4d9e3d71-3488-4a14-f0e2-53428e6a68c0",
        "colab": {}
      },
      "source": [
        "y_valid[42]"
      ],
      "execution_count": 0,
      "outputs": [
        {
          "output_type": "execute_result",
          "data": {
            "text/plain": [
              "14.1"
            ]
          },
          "metadata": {
            "tags": []
          },
          "execution_count": 18
        }
      ]
    },
    {
      "cell_type": "code",
      "metadata": {
        "id": "Lh8w_tvCCuDS",
        "colab_type": "code",
        "outputId": "bfb783af-ee7f-4019-f9a5-8f0cb29073d2",
        "colab": {}
      },
      "source": [
        "model.predict(np.reshape(X_valid[42], [1, 13]))"
      ],
      "execution_count": 0,
      "outputs": [
        {
          "output_type": "execute_result",
          "data": {
            "text/plain": [
              "array([[15.265093]], dtype=float32)"
            ]
          },
          "metadata": {
            "tags": []
          },
          "execution_count": 19
        }
      ]
    },
    {
      "cell_type": "code",
      "metadata": {
        "id": "AyP9h6uJCuDV",
        "colab_type": "code",
        "colab": {}
      },
      "source": [
        ""
      ],
      "execution_count": 0,
      "outputs": []
    }
  ]
}